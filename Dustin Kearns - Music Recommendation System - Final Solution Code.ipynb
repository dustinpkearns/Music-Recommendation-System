{
 "cells": [
  {
   "cell_type": "markdown",
   "id": "8d97ee9f",
   "metadata": {
    "id": "8d97ee9f"
   },
   "source": [
    "# **Music Recommendation System**"
   ]
  },
  {
   "cell_type": "markdown",
   "id": "c69973ec",
   "metadata": {
    "id": "c69973ec"
   },
   "source": [
    "# **Milestone 1**"
   ]
  },
  {
   "cell_type": "markdown",
   "id": "18667095",
   "metadata": {
    "id": "18667095"
   },
   "source": [
    "# I. Problem Definition"
   ]
  },
  {
   "cell_type": "markdown",
   "id": "27b838ab",
   "metadata": {
    "id": "27b838ab"
   },
   "source": [
    "## The Context"
   ]
  },
  {
   "cell_type": "markdown",
   "id": "bea6b073",
   "metadata": {
    "id": "bea6b073"
   },
   "source": [
    "For busy music listeners facing an evergrowing selection of songs to listen to, the ability to find musical content they enjoy increasingly depends on the recommendations of their music streaming app of choice. Furthermore, the success of these same apps depends on their ability to retain customers and maximize the amount of time they spend on the app, something that is primarily done by making quality song recommendations to their customers. Finally, but perhaps most importantly, the growth and development of artists is now inextricably linked to these recommendations, which allow them to find an audience of listeners that appreciate their art. For these reasons, and by extension for the health of the music industry as a whole, it is imperative that high-performing music recommendation systems exist."
   ]
  },
  {
   "cell_type": "markdown",
   "id": "21abb784",
   "metadata": {
    "id": "21abb784"
   },
   "source": [
    "## The Objectives"
   ]
  },
  {
   "cell_type": "markdown",
   "id": "2764f763",
   "metadata": {
    "id": "2764f763"
   },
   "source": [
    "To construct a recommendation system that provides the top 10 songs a listener will like, with the highest possible degree of accuracy."
   ]
  },
  {
   "cell_type": "markdown",
   "id": "d18074f9",
   "metadata": {
    "id": "d18074f9"
   },
   "source": [
    "## The Key Questions"
   ]
  },
  {
   "cell_type": "markdown",
   "id": "237ad569",
   "metadata": {
    "id": "237ad569"
   },
   "source": [
    "1. What patterns and relationships exist in the data that might help inform our approach?\n",
    "2. Which techniques can we use to create an optimal recommendation system (ex: Averaging, Content-based Filtering, SVD)?\n",
    "3. What might a real-world application of our recommendation system look like?"
   ]
  },
  {
   "cell_type": "markdown",
   "id": "8db15deb",
   "metadata": {
    "id": "8db15deb"
   },
   "source": [
    "## The Problem Formulation"
   ]
  },
  {
   "cell_type": "markdown",
   "id": "06556e8f",
   "metadata": {
    "id": "06556e8f"
   },
   "source": [
    "What kind of recommendation system, and with what features and parameters, should we use to create an accurate and useful song recommendation system?"
   ]
  },
  {
   "cell_type": "markdown",
   "id": "4525d91b",
   "metadata": {
    "id": "4525d91b"
   },
   "source": [
    "# II. Data Exploration"
   ]
  },
  {
   "cell_type": "markdown",
   "id": "d5689ea1",
   "metadata": {
    "id": "d5689ea1"
   },
   "source": [
    "## Data Description"
   ]
  },
  {
   "cell_type": "markdown",
   "id": "dc0e95d3",
   "metadata": {
    "id": "dc0e95d3"
   },
   "source": [
    "The dataset we will use is the Taste Profile Subset released by The Echo Nest, a subset of the Million Song Dataset. It consists of two files."
   ]
  },
  {
   "cell_type": "markdown",
   "id": "366821ee",
   "metadata": {
    "id": "366821ee"
   },
   "source": [
    "The song_data file contains the following attributes:\n",
    "- song_id: A unique ID given to every song\n",
    "- title: Title of the song\n",
    "- release: Name of the released album\n",
    "- artist_name: Name of the artist\n",
    "- year: Year of release"
   ]
  },
  {
   "cell_type": "markdown",
   "id": "239bf98a",
   "metadata": {
    "id": "239bf98a"
   },
   "source": [
    "The count_data file contains the following attributes:\n",
    "- user_id: A unique ID given to the user\n",
    "- song_id: A unique ID given to the song\n",
    "- play_count: Number of times the song was played"
   ]
  },
  {
   "cell_type": "markdown",
   "id": "1bea0cf6",
   "metadata": {
    "id": "1bea0cf6"
   },
   "source": [
    "## Observations & Insights"
   ]
  },
  {
   "cell_type": "code",
   "execution_count": null,
   "id": "1ef8a7ba",
   "metadata": {
    "id": "1ef8a7ba"
   },
   "outputs": [],
   "source": [
    "#Importing the necessary packages\n",
    "import numpy as np\n",
    "import pandas as pd\n",
    "import matplotlib.pyplot as plt\n",
    "import seaborn as sns\n",
    "from sklearn import preprocessing"
   ]
  },
  {
   "cell_type": "code",
   "execution_count": null,
   "id": "ahwP4ldvySsL",
   "metadata": {
    "colab": {
     "base_uri": "https://localhost:8080/"
    },
    "id": "ahwP4ldvySsL",
    "outputId": "a4592b2f-662e-4501-ff45-a34a92c86c16"
   },
   "outputs": [
    {
     "name": "stdout",
     "output_type": "stream",
     "text": [
      "Mounted at /content/drive\n"
     ]
    }
   ],
   "source": [
    "#Mounting the drive\n",
    "from google.colab import drive\n",
    "drive.mount('/content/drive')"
   ]
  },
  {
   "cell_type": "code",
   "execution_count": null,
   "id": "16812a99",
   "metadata": {
    "id": "16812a99"
   },
   "outputs": [],
   "source": [
    "#Importing the dataset in two separate dataframes\n",
    "song_data = pd.read_csv('/content/drive/MyDrive/Colab Notebooks/song_data.csv')\n",
    "count_data = pd.read_csv('/content/drive/MyDrive/Colab Notebooks/count_data.csv')"
   ]
  },
  {
   "cell_type": "code",
   "execution_count": null,
   "id": "e02a137a",
   "metadata": {
    "colab": {
     "base_uri": "https://localhost:8080/",
     "height": 206
    },
    "id": "e02a137a",
    "outputId": "065ee9c7-a8c0-4136-f27d-b22403a6227c"
   },
   "outputs": [
    {
     "data": {
      "text/html": [
       "\n",
       "  <div id=\"df-1aca878a-2e24-4e3d-9956-dabbd56b0708\">\n",
       "    <div class=\"colab-df-container\">\n",
       "      <div>\n",
       "<style scoped>\n",
       "    .dataframe tbody tr th:only-of-type {\n",
       "        vertical-align: middle;\n",
       "    }\n",
       "\n",
       "    .dataframe tbody tr th {\n",
       "        vertical-align: top;\n",
       "    }\n",
       "\n",
       "    .dataframe thead th {\n",
       "        text-align: right;\n",
       "    }\n",
       "</style>\n",
       "<table border=\"1\" class=\"dataframe\">\n",
       "  <thead>\n",
       "    <tr style=\"text-align: right;\">\n",
       "      <th></th>\n",
       "      <th>song_id</th>\n",
       "      <th>title</th>\n",
       "      <th>release</th>\n",
       "      <th>artist_name</th>\n",
       "      <th>year</th>\n",
       "    </tr>\n",
       "  </thead>\n",
       "  <tbody>\n",
       "    <tr>\n",
       "      <th>0</th>\n",
       "      <td>SOQMMHC12AB0180CB8</td>\n",
       "      <td>Silent Night</td>\n",
       "      <td>Monster Ballads X-Mas</td>\n",
       "      <td>Faster Pussy cat</td>\n",
       "      <td>2003</td>\n",
       "    </tr>\n",
       "    <tr>\n",
       "      <th>1</th>\n",
       "      <td>SOVFVAK12A8C1350D9</td>\n",
       "      <td>Tanssi vaan</td>\n",
       "      <td>Karkuteillä</td>\n",
       "      <td>Karkkiautomaatti</td>\n",
       "      <td>1995</td>\n",
       "    </tr>\n",
       "    <tr>\n",
       "      <th>2</th>\n",
       "      <td>SOGTUKN12AB017F4F1</td>\n",
       "      <td>No One Could Ever</td>\n",
       "      <td>Butter</td>\n",
       "      <td>Hudson Mohawke</td>\n",
       "      <td>2006</td>\n",
       "    </tr>\n",
       "    <tr>\n",
       "      <th>3</th>\n",
       "      <td>SOBNYVR12A8C13558C</td>\n",
       "      <td>Si Vos Querés</td>\n",
       "      <td>De Culo</td>\n",
       "      <td>Yerba Brava</td>\n",
       "      <td>2003</td>\n",
       "    </tr>\n",
       "    <tr>\n",
       "      <th>4</th>\n",
       "      <td>SOHSBXH12A8C13B0DF</td>\n",
       "      <td>Tangle Of Aspens</td>\n",
       "      <td>Rene Ablaze Presents Winter Sessions</td>\n",
       "      <td>Der Mystic</td>\n",
       "      <td>0</td>\n",
       "    </tr>\n",
       "  </tbody>\n",
       "</table>\n",
       "</div>\n",
       "      <button class=\"colab-df-convert\" onclick=\"convertToInteractive('df-1aca878a-2e24-4e3d-9956-dabbd56b0708')\"\n",
       "              title=\"Convert this dataframe to an interactive table.\"\n",
       "              style=\"display:none;\">\n",
       "        \n",
       "  <svg xmlns=\"http://www.w3.org/2000/svg\" height=\"24px\"viewBox=\"0 0 24 24\"\n",
       "       width=\"24px\">\n",
       "    <path d=\"M0 0h24v24H0V0z\" fill=\"none\"/>\n",
       "    <path d=\"M18.56 5.44l.94 2.06.94-2.06 2.06-.94-2.06-.94-.94-2.06-.94 2.06-2.06.94zm-11 1L8.5 8.5l.94-2.06 2.06-.94-2.06-.94L8.5 2.5l-.94 2.06-2.06.94zm10 10l.94 2.06.94-2.06 2.06-.94-2.06-.94-.94-2.06-.94 2.06-2.06.94z\"/><path d=\"M17.41 7.96l-1.37-1.37c-.4-.4-.92-.59-1.43-.59-.52 0-1.04.2-1.43.59L10.3 9.45l-7.72 7.72c-.78.78-.78 2.05 0 2.83L4 21.41c.39.39.9.59 1.41.59.51 0 1.02-.2 1.41-.59l7.78-7.78 2.81-2.81c.8-.78.8-2.07 0-2.86zM5.41 20L4 18.59l7.72-7.72 1.47 1.35L5.41 20z\"/>\n",
       "  </svg>\n",
       "      </button>\n",
       "      \n",
       "  <style>\n",
       "    .colab-df-container {\n",
       "      display:flex;\n",
       "      flex-wrap:wrap;\n",
       "      gap: 12px;\n",
       "    }\n",
       "\n",
       "    .colab-df-convert {\n",
       "      background-color: #E8F0FE;\n",
       "      border: none;\n",
       "      border-radius: 50%;\n",
       "      cursor: pointer;\n",
       "      display: none;\n",
       "      fill: #1967D2;\n",
       "      height: 32px;\n",
       "      padding: 0 0 0 0;\n",
       "      width: 32px;\n",
       "    }\n",
       "\n",
       "    .colab-df-convert:hover {\n",
       "      background-color: #E2EBFA;\n",
       "      box-shadow: 0px 1px 2px rgba(60, 64, 67, 0.3), 0px 1px 3px 1px rgba(60, 64, 67, 0.15);\n",
       "      fill: #174EA6;\n",
       "    }\n",
       "\n",
       "    [theme=dark] .colab-df-convert {\n",
       "      background-color: #3B4455;\n",
       "      fill: #D2E3FC;\n",
       "    }\n",
       "\n",
       "    [theme=dark] .colab-df-convert:hover {\n",
       "      background-color: #434B5C;\n",
       "      box-shadow: 0px 1px 3px 1px rgba(0, 0, 0, 0.15);\n",
       "      filter: drop-shadow(0px 1px 2px rgba(0, 0, 0, 0.3));\n",
       "      fill: #FFFFFF;\n",
       "    }\n",
       "  </style>\n",
       "\n",
       "      <script>\n",
       "        const buttonEl =\n",
       "          document.querySelector('#df-1aca878a-2e24-4e3d-9956-dabbd56b0708 button.colab-df-convert');\n",
       "        buttonEl.style.display =\n",
       "          google.colab.kernel.accessAllowed ? 'block' : 'none';\n",
       "\n",
       "        async function convertToInteractive(key) {\n",
       "          const element = document.querySelector('#df-1aca878a-2e24-4e3d-9956-dabbd56b0708');\n",
       "          const dataTable =\n",
       "            await google.colab.kernel.invokeFunction('convertToInteractive',\n",
       "                                                     [key], {});\n",
       "          if (!dataTable) return;\n",
       "\n",
       "          const docLinkHtml = 'Like what you see? Visit the ' +\n",
       "            '<a target=\"_blank\" href=https://colab.research.google.com/notebooks/data_table.ipynb>data table notebook</a>'\n",
       "            + ' to learn more about interactive tables.';\n",
       "          element.innerHTML = '';\n",
       "          dataTable['output_type'] = 'display_data';\n",
       "          await google.colab.output.renderOutput(dataTable, element);\n",
       "          const docLink = document.createElement('div');\n",
       "          docLink.innerHTML = docLinkHtml;\n",
       "          element.appendChild(docLink);\n",
       "        }\n",
       "      </script>\n",
       "    </div>\n",
       "  </div>\n",
       "  "
      ],
      "text/plain": [
       "              song_id              title  \\\n",
       "0  SOQMMHC12AB0180CB8       Silent Night   \n",
       "1  SOVFVAK12A8C1350D9        Tanssi vaan   \n",
       "2  SOGTUKN12AB017F4F1  No One Could Ever   \n",
       "3  SOBNYVR12A8C13558C      Si Vos Querés   \n",
       "4  SOHSBXH12A8C13B0DF   Tangle Of Aspens   \n",
       "\n",
       "                                release       artist_name  year  \n",
       "0                 Monster Ballads X-Mas  Faster Pussy cat  2003  \n",
       "1                           Karkuteillä  Karkkiautomaatti  1995  \n",
       "2                                Butter    Hudson Mohawke  2006  \n",
       "3                               De Culo       Yerba Brava  2003  \n",
       "4  Rene Ablaze Presents Winter Sessions        Der Mystic     0  "
      ]
     },
     "execution_count": 4,
     "metadata": {},
     "output_type": "execute_result"
    }
   ],
   "source": [
    "#Previewing song_data\n",
    "song_data.head()"
   ]
  },
  {
   "cell_type": "code",
   "execution_count": null,
   "id": "5326dc75",
   "metadata": {
    "colab": {
     "base_uri": "https://localhost:8080/",
     "height": 206
    },
    "id": "5326dc75",
    "outputId": "d0423524-61ee-4e3c-e77c-5ddb23f1cd36"
   },
   "outputs": [
    {
     "data": {
      "text/html": [
       "\n",
       "  <div id=\"df-0d942e1c-08d8-4cb6-b1a7-bf7fdd23fab4\">\n",
       "    <div class=\"colab-df-container\">\n",
       "      <div>\n",
       "<style scoped>\n",
       "    .dataframe tbody tr th:only-of-type {\n",
       "        vertical-align: middle;\n",
       "    }\n",
       "\n",
       "    .dataframe tbody tr th {\n",
       "        vertical-align: top;\n",
       "    }\n",
       "\n",
       "    .dataframe thead th {\n",
       "        text-align: right;\n",
       "    }\n",
       "</style>\n",
       "<table border=\"1\" class=\"dataframe\">\n",
       "  <thead>\n",
       "    <tr style=\"text-align: right;\">\n",
       "      <th></th>\n",
       "      <th>Unnamed: 0</th>\n",
       "      <th>user_id</th>\n",
       "      <th>song_id</th>\n",
       "      <th>play_count</th>\n",
       "    </tr>\n",
       "  </thead>\n",
       "  <tbody>\n",
       "    <tr>\n",
       "      <th>0</th>\n",
       "      <td>0</td>\n",
       "      <td>b80344d063b5ccb3212f76538f3d9e43d87dca9e</td>\n",
       "      <td>SOAKIMP12A8C130995</td>\n",
       "      <td>1</td>\n",
       "    </tr>\n",
       "    <tr>\n",
       "      <th>1</th>\n",
       "      <td>1</td>\n",
       "      <td>b80344d063b5ccb3212f76538f3d9e43d87dca9e</td>\n",
       "      <td>SOBBMDR12A8C13253B</td>\n",
       "      <td>2</td>\n",
       "    </tr>\n",
       "    <tr>\n",
       "      <th>2</th>\n",
       "      <td>2</td>\n",
       "      <td>b80344d063b5ccb3212f76538f3d9e43d87dca9e</td>\n",
       "      <td>SOBXHDL12A81C204C0</td>\n",
       "      <td>1</td>\n",
       "    </tr>\n",
       "    <tr>\n",
       "      <th>3</th>\n",
       "      <td>3</td>\n",
       "      <td>b80344d063b5ccb3212f76538f3d9e43d87dca9e</td>\n",
       "      <td>SOBYHAJ12A6701BF1D</td>\n",
       "      <td>1</td>\n",
       "    </tr>\n",
       "    <tr>\n",
       "      <th>4</th>\n",
       "      <td>4</td>\n",
       "      <td>b80344d063b5ccb3212f76538f3d9e43d87dca9e</td>\n",
       "      <td>SODACBL12A8C13C273</td>\n",
       "      <td>1</td>\n",
       "    </tr>\n",
       "  </tbody>\n",
       "</table>\n",
       "</div>\n",
       "      <button class=\"colab-df-convert\" onclick=\"convertToInteractive('df-0d942e1c-08d8-4cb6-b1a7-bf7fdd23fab4')\"\n",
       "              title=\"Convert this dataframe to an interactive table.\"\n",
       "              style=\"display:none;\">\n",
       "        \n",
       "  <svg xmlns=\"http://www.w3.org/2000/svg\" height=\"24px\"viewBox=\"0 0 24 24\"\n",
       "       width=\"24px\">\n",
       "    <path d=\"M0 0h24v24H0V0z\" fill=\"none\"/>\n",
       "    <path d=\"M18.56 5.44l.94 2.06.94-2.06 2.06-.94-2.06-.94-.94-2.06-.94 2.06-2.06.94zm-11 1L8.5 8.5l.94-2.06 2.06-.94-2.06-.94L8.5 2.5l-.94 2.06-2.06.94zm10 10l.94 2.06.94-2.06 2.06-.94-2.06-.94-.94-2.06-.94 2.06-2.06.94z\"/><path d=\"M17.41 7.96l-1.37-1.37c-.4-.4-.92-.59-1.43-.59-.52 0-1.04.2-1.43.59L10.3 9.45l-7.72 7.72c-.78.78-.78 2.05 0 2.83L4 21.41c.39.39.9.59 1.41.59.51 0 1.02-.2 1.41-.59l7.78-7.78 2.81-2.81c.8-.78.8-2.07 0-2.86zM5.41 20L4 18.59l7.72-7.72 1.47 1.35L5.41 20z\"/>\n",
       "  </svg>\n",
       "      </button>\n",
       "      \n",
       "  <style>\n",
       "    .colab-df-container {\n",
       "      display:flex;\n",
       "      flex-wrap:wrap;\n",
       "      gap: 12px;\n",
       "    }\n",
       "\n",
       "    .colab-df-convert {\n",
       "      background-color: #E8F0FE;\n",
       "      border: none;\n",
       "      border-radius: 50%;\n",
       "      cursor: pointer;\n",
       "      display: none;\n",
       "      fill: #1967D2;\n",
       "      height: 32px;\n",
       "      padding: 0 0 0 0;\n",
       "      width: 32px;\n",
       "    }\n",
       "\n",
       "    .colab-df-convert:hover {\n",
       "      background-color: #E2EBFA;\n",
       "      box-shadow: 0px 1px 2px rgba(60, 64, 67, 0.3), 0px 1px 3px 1px rgba(60, 64, 67, 0.15);\n",
       "      fill: #174EA6;\n",
       "    }\n",
       "\n",
       "    [theme=dark] .colab-df-convert {\n",
       "      background-color: #3B4455;\n",
       "      fill: #D2E3FC;\n",
       "    }\n",
       "\n",
       "    [theme=dark] .colab-df-convert:hover {\n",
       "      background-color: #434B5C;\n",
       "      box-shadow: 0px 1px 3px 1px rgba(0, 0, 0, 0.15);\n",
       "      filter: drop-shadow(0px 1px 2px rgba(0, 0, 0, 0.3));\n",
       "      fill: #FFFFFF;\n",
       "    }\n",
       "  </style>\n",
       "\n",
       "      <script>\n",
       "        const buttonEl =\n",
       "          document.querySelector('#df-0d942e1c-08d8-4cb6-b1a7-bf7fdd23fab4 button.colab-df-convert');\n",
       "        buttonEl.style.display =\n",
       "          google.colab.kernel.accessAllowed ? 'block' : 'none';\n",
       "\n",
       "        async function convertToInteractive(key) {\n",
       "          const element = document.querySelector('#df-0d942e1c-08d8-4cb6-b1a7-bf7fdd23fab4');\n",
       "          const dataTable =\n",
       "            await google.colab.kernel.invokeFunction('convertToInteractive',\n",
       "                                                     [key], {});\n",
       "          if (!dataTable) return;\n",
       "\n",
       "          const docLinkHtml = 'Like what you see? Visit the ' +\n",
       "            '<a target=\"_blank\" href=https://colab.research.google.com/notebooks/data_table.ipynb>data table notebook</a>'\n",
       "            + ' to learn more about interactive tables.';\n",
       "          element.innerHTML = '';\n",
       "          dataTable['output_type'] = 'display_data';\n",
       "          await google.colab.output.renderOutput(dataTable, element);\n",
       "          const docLink = document.createElement('div');\n",
       "          docLink.innerHTML = docLinkHtml;\n",
       "          element.appendChild(docLink);\n",
       "        }\n",
       "      </script>\n",
       "    </div>\n",
       "  </div>\n",
       "  "
      ],
      "text/plain": [
       "   Unnamed: 0                                   user_id             song_id  \\\n",
       "0           0  b80344d063b5ccb3212f76538f3d9e43d87dca9e  SOAKIMP12A8C130995   \n",
       "1           1  b80344d063b5ccb3212f76538f3d9e43d87dca9e  SOBBMDR12A8C13253B   \n",
       "2           2  b80344d063b5ccb3212f76538f3d9e43d87dca9e  SOBXHDL12A81C204C0   \n",
       "3           3  b80344d063b5ccb3212f76538f3d9e43d87dca9e  SOBYHAJ12A6701BF1D   \n",
       "4           4  b80344d063b5ccb3212f76538f3d9e43d87dca9e  SODACBL12A8C13C273   \n",
       "\n",
       "   play_count  \n",
       "0           1  \n",
       "1           2  \n",
       "2           1  \n",
       "3           1  \n",
       "4           1  "
      ]
     },
     "execution_count": 5,
     "metadata": {},
     "output_type": "execute_result"
    }
   ],
   "source": [
    "#Previewing count_data\n",
    "count_data.head()"
   ]
  },
  {
   "cell_type": "code",
   "execution_count": null,
   "id": "f5a47d94",
   "metadata": {
    "colab": {
     "base_uri": "https://localhost:8080/"
    },
    "id": "f5a47d94",
    "outputId": "6c2438d9-9573-4514-95b1-f8d192a1ffd0"
   },
   "outputs": [
    {
     "name": "stdout",
     "output_type": "stream",
     "text": [
      "<class 'pandas.core.frame.DataFrame'>\n",
      "RangeIndex: 1000000 entries, 0 to 999999\n",
      "Data columns (total 5 columns):\n",
      " #   Column       Non-Null Count    Dtype \n",
      "---  ------       --------------    ----- \n",
      " 0   song_id      1000000 non-null  object\n",
      " 1   title        999985 non-null   object\n",
      " 2   release      999995 non-null   object\n",
      " 3   artist_name  1000000 non-null  object\n",
      " 4   year         1000000 non-null  int64 \n",
      "dtypes: int64(1), object(4)\n",
      "memory usage: 38.1+ MB\n"
     ]
    }
   ],
   "source": [
    "#Checking the info of song_data\n",
    "song_data.info()"
   ]
  },
  {
   "cell_type": "markdown",
   "id": "f775c0b1",
   "metadata": {
    "id": "f775c0b1"
   },
   "source": [
    "#### Observations:\n",
    "- There are 15 rows with missing titles\n",
    "- There are 5 rows with missing releases"
   ]
  },
  {
   "cell_type": "code",
   "execution_count": null,
   "id": "62f4ca48",
   "metadata": {
    "colab": {
     "base_uri": "https://localhost:8080/"
    },
    "id": "62f4ca48",
    "outputId": "e9fe4cd0-8f2f-4216-e2fa-d0adb2bec922"
   },
   "outputs": [
    {
     "data": {
      "text/plain": [
       "999056"
      ]
     },
     "execution_count": 7,
     "metadata": {},
     "output_type": "execute_result"
    }
   ],
   "source": [
    "#Checking for duplicates Song IDs in song_data\n",
    "len(song_data['song_id'].unique())"
   ]
  },
  {
   "cell_type": "markdown",
   "id": "1c2f2f83",
   "metadata": {
    "id": "1c2f2f83"
   },
   "source": [
    "#### Observations:\n",
    "- There are nearly a thousand repeated Song IDs\n",
    "- We will drop the repeated rows and only keep the first appearance of each Song ID"
   ]
  },
  {
   "cell_type": "code",
   "execution_count": null,
   "id": "4e3da952",
   "metadata": {
    "id": "4e3da952"
   },
   "outputs": [],
   "source": [
    "#Dropping duplicates from song_data\n",
    "song_data = song_data.drop_duplicates(subset = ['song_id'])"
   ]
  },
  {
   "cell_type": "code",
   "execution_count": null,
   "id": "e70cdcad",
   "metadata": {
    "colab": {
     "base_uri": "https://localhost:8080/"
    },
    "id": "e70cdcad",
    "outputId": "01f34113-1725-42c4-8390-7388622a5d52"
   },
   "outputs": [
    {
     "name": "stdout",
     "output_type": "stream",
     "text": [
      "<class 'pandas.core.frame.DataFrame'>\n",
      "RangeIndex: 2000000 entries, 0 to 1999999\n",
      "Data columns (total 4 columns):\n",
      " #   Column      Non-Null Count    Dtype \n",
      "---  ------      --------------    ----- \n",
      " 0   Unnamed: 0  2000000 non-null  int64 \n",
      " 1   user_id     2000000 non-null  object\n",
      " 2   song_id     2000000 non-null  object\n",
      " 3   play_count  2000000 non-null  int64 \n",
      "dtypes: int64(2), object(2)\n",
      "memory usage: 61.0+ MB\n"
     ]
    }
   ],
   "source": [
    "#Checking the info of count_data\n",
    "count_data.info(show_counts = True)"
   ]
  },
  {
   "cell_type": "markdown",
   "id": "c2fe9c3f",
   "metadata": {
    "id": "c2fe9c3f"
   },
   "source": [
    "#### Observations:\n",
    "- There is an extra column in the dataset that we will drop\n",
    "- There are no missing values in any column"
   ]
  },
  {
   "cell_type": "code",
   "execution_count": null,
   "id": "923e60ae",
   "metadata": {
    "id": "923e60ae"
   },
   "outputs": [],
   "source": [
    "#Dropping Unnamed: 0 from count_data\n",
    "count_data = count_data.drop(columns = ['Unnamed: 0'])"
   ]
  },
  {
   "cell_type": "code",
   "execution_count": null,
   "id": "ad3b47a1",
   "metadata": {
    "colab": {
     "base_uri": "https://localhost:8080/"
    },
    "id": "ad3b47a1",
    "outputId": "65ff4e91-847d-4662-c2b5-55b5184041c4"
   },
   "outputs": [
    {
     "data": {
      "text/plain": [
       "0"
      ]
     },
     "execution_count": 11,
     "metadata": {},
     "output_type": "execute_result"
    }
   ],
   "source": [
    "#Checking for duplicates in count_data\n",
    "sum(count_data[['user_id', 'song_id']].duplicated())"
   ]
  },
  {
   "cell_type": "markdown",
   "id": "6f772180",
   "metadata": {
    "id": "6f772180"
   },
   "source": [
    "#### Observations:\n",
    "- There are no duplicate user_id/song_id pairings"
   ]
  },
  {
   "cell_type": "code",
   "execution_count": null,
   "id": "fddc3e41",
   "metadata": {
    "id": "fddc3e41"
   },
   "outputs": [],
   "source": [
    "#Left merging count_data and song_data on song_id\n",
    "df = pd.merge(count_data, song_data, on = 'song_id', how = 'left')"
   ]
  },
  {
   "cell_type": "code",
   "execution_count": null,
   "id": "621f6114",
   "metadata": {
    "colab": {
     "base_uri": "https://localhost:8080/",
     "height": 409
    },
    "id": "621f6114",
    "outputId": "7af77594-6357-4b5b-bde1-c03c85fb4b00"
   },
   "outputs": [
    {
     "data": {
      "text/html": [
       "\n",
       "  <div id=\"df-41421206-32ea-4f82-bdfe-bbe41c1ac166\">\n",
       "    <div class=\"colab-df-container\">\n",
       "      <div>\n",
       "<style scoped>\n",
       "    .dataframe tbody tr th:only-of-type {\n",
       "        vertical-align: middle;\n",
       "    }\n",
       "\n",
       "    .dataframe tbody tr th {\n",
       "        vertical-align: top;\n",
       "    }\n",
       "\n",
       "    .dataframe thead th {\n",
       "        text-align: right;\n",
       "    }\n",
       "</style>\n",
       "<table border=\"1\" class=\"dataframe\">\n",
       "  <thead>\n",
       "    <tr style=\"text-align: right;\">\n",
       "      <th></th>\n",
       "      <th>user_id</th>\n",
       "      <th>song_id</th>\n",
       "      <th>play_count</th>\n",
       "      <th>title</th>\n",
       "      <th>release</th>\n",
       "      <th>artist_name</th>\n",
       "      <th>year</th>\n",
       "    </tr>\n",
       "  </thead>\n",
       "  <tbody>\n",
       "    <tr>\n",
       "      <th>0</th>\n",
       "      <td>b80344d063b5ccb3212f76538f3d9e43d87dca9e</td>\n",
       "      <td>SOAKIMP12A8C130995</td>\n",
       "      <td>1</td>\n",
       "      <td>The Cove</td>\n",
       "      <td>Thicker Than Water</td>\n",
       "      <td>Jack Johnson</td>\n",
       "      <td>0</td>\n",
       "    </tr>\n",
       "    <tr>\n",
       "      <th>1</th>\n",
       "      <td>b80344d063b5ccb3212f76538f3d9e43d87dca9e</td>\n",
       "      <td>SOBBMDR12A8C13253B</td>\n",
       "      <td>2</td>\n",
       "      <td>Entre Dos Aguas</td>\n",
       "      <td>Flamenco Para Niños</td>\n",
       "      <td>Paco De Lucia</td>\n",
       "      <td>1976</td>\n",
       "    </tr>\n",
       "    <tr>\n",
       "      <th>2</th>\n",
       "      <td>b80344d063b5ccb3212f76538f3d9e43d87dca9e</td>\n",
       "      <td>SOBXHDL12A81C204C0</td>\n",
       "      <td>1</td>\n",
       "      <td>Stronger</td>\n",
       "      <td>Graduation</td>\n",
       "      <td>Kanye West</td>\n",
       "      <td>2007</td>\n",
       "    </tr>\n",
       "    <tr>\n",
       "      <th>3</th>\n",
       "      <td>b80344d063b5ccb3212f76538f3d9e43d87dca9e</td>\n",
       "      <td>SOBYHAJ12A6701BF1D</td>\n",
       "      <td>1</td>\n",
       "      <td>Constellations</td>\n",
       "      <td>In Between Dreams</td>\n",
       "      <td>Jack Johnson</td>\n",
       "      <td>2005</td>\n",
       "    </tr>\n",
       "    <tr>\n",
       "      <th>4</th>\n",
       "      <td>b80344d063b5ccb3212f76538f3d9e43d87dca9e</td>\n",
       "      <td>SODACBL12A8C13C273</td>\n",
       "      <td>1</td>\n",
       "      <td>Learn To Fly</td>\n",
       "      <td>There Is Nothing Left To Lose</td>\n",
       "      <td>Foo Fighters</td>\n",
       "      <td>1999</td>\n",
       "    </tr>\n",
       "  </tbody>\n",
       "</table>\n",
       "</div>\n",
       "      <button class=\"colab-df-convert\" onclick=\"convertToInteractive('df-41421206-32ea-4f82-bdfe-bbe41c1ac166')\"\n",
       "              title=\"Convert this dataframe to an interactive table.\"\n",
       "              style=\"display:none;\">\n",
       "        \n",
       "  <svg xmlns=\"http://www.w3.org/2000/svg\" height=\"24px\"viewBox=\"0 0 24 24\"\n",
       "       width=\"24px\">\n",
       "    <path d=\"M0 0h24v24H0V0z\" fill=\"none\"/>\n",
       "    <path d=\"M18.56 5.44l.94 2.06.94-2.06 2.06-.94-2.06-.94-.94-2.06-.94 2.06-2.06.94zm-11 1L8.5 8.5l.94-2.06 2.06-.94-2.06-.94L8.5 2.5l-.94 2.06-2.06.94zm10 10l.94 2.06.94-2.06 2.06-.94-2.06-.94-.94-2.06-.94 2.06-2.06.94z\"/><path d=\"M17.41 7.96l-1.37-1.37c-.4-.4-.92-.59-1.43-.59-.52 0-1.04.2-1.43.59L10.3 9.45l-7.72 7.72c-.78.78-.78 2.05 0 2.83L4 21.41c.39.39.9.59 1.41.59.51 0 1.02-.2 1.41-.59l7.78-7.78 2.81-2.81c.8-.78.8-2.07 0-2.86zM5.41 20L4 18.59l7.72-7.72 1.47 1.35L5.41 20z\"/>\n",
       "  </svg>\n",
       "      </button>\n",
       "      \n",
       "  <style>\n",
       "    .colab-df-container {\n",
       "      display:flex;\n",
       "      flex-wrap:wrap;\n",
       "      gap: 12px;\n",
       "    }\n",
       "\n",
       "    .colab-df-convert {\n",
       "      background-color: #E8F0FE;\n",
       "      border: none;\n",
       "      border-radius: 50%;\n",
       "      cursor: pointer;\n",
       "      display: none;\n",
       "      fill: #1967D2;\n",
       "      height: 32px;\n",
       "      padding: 0 0 0 0;\n",
       "      width: 32px;\n",
       "    }\n",
       "\n",
       "    .colab-df-convert:hover {\n",
       "      background-color: #E2EBFA;\n",
       "      box-shadow: 0px 1px 2px rgba(60, 64, 67, 0.3), 0px 1px 3px 1px rgba(60, 64, 67, 0.15);\n",
       "      fill: #174EA6;\n",
       "    }\n",
       "\n",
       "    [theme=dark] .colab-df-convert {\n",
       "      background-color: #3B4455;\n",
       "      fill: #D2E3FC;\n",
       "    }\n",
       "\n",
       "    [theme=dark] .colab-df-convert:hover {\n",
       "      background-color: #434B5C;\n",
       "      box-shadow: 0px 1px 3px 1px rgba(0, 0, 0, 0.15);\n",
       "      filter: drop-shadow(0px 1px 2px rgba(0, 0, 0, 0.3));\n",
       "      fill: #FFFFFF;\n",
       "    }\n",
       "  </style>\n",
       "\n",
       "      <script>\n",
       "        const buttonEl =\n",
       "          document.querySelector('#df-41421206-32ea-4f82-bdfe-bbe41c1ac166 button.colab-df-convert');\n",
       "        buttonEl.style.display =\n",
       "          google.colab.kernel.accessAllowed ? 'block' : 'none';\n",
       "\n",
       "        async function convertToInteractive(key) {\n",
       "          const element = document.querySelector('#df-41421206-32ea-4f82-bdfe-bbe41c1ac166');\n",
       "          const dataTable =\n",
       "            await google.colab.kernel.invokeFunction('convertToInteractive',\n",
       "                                                     [key], {});\n",
       "          if (!dataTable) return;\n",
       "\n",
       "          const docLinkHtml = 'Like what you see? Visit the ' +\n",
       "            '<a target=\"_blank\" href=https://colab.research.google.com/notebooks/data_table.ipynb>data table notebook</a>'\n",
       "            + ' to learn more about interactive tables.';\n",
       "          element.innerHTML = '';\n",
       "          dataTable['output_type'] = 'display_data';\n",
       "          await google.colab.output.renderOutput(dataTable, element);\n",
       "          const docLink = document.createElement('div');\n",
       "          docLink.innerHTML = docLinkHtml;\n",
       "          element.appendChild(docLink);\n",
       "        }\n",
       "      </script>\n",
       "    </div>\n",
       "  </div>\n",
       "  "
      ],
      "text/plain": [
       "                                    user_id             song_id  play_count  \\\n",
       "0  b80344d063b5ccb3212f76538f3d9e43d87dca9e  SOAKIMP12A8C130995           1   \n",
       "1  b80344d063b5ccb3212f76538f3d9e43d87dca9e  SOBBMDR12A8C13253B           2   \n",
       "2  b80344d063b5ccb3212f76538f3d9e43d87dca9e  SOBXHDL12A81C204C0           1   \n",
       "3  b80344d063b5ccb3212f76538f3d9e43d87dca9e  SOBYHAJ12A6701BF1D           1   \n",
       "4  b80344d063b5ccb3212f76538f3d9e43d87dca9e  SODACBL12A8C13C273           1   \n",
       "\n",
       "             title                        release    artist_name  year  \n",
       "0         The Cove             Thicker Than Water   Jack Johnson     0  \n",
       "1  Entre Dos Aguas            Flamenco Para Niños  Paco De Lucia  1976  \n",
       "2         Stronger                     Graduation     Kanye West  2007  \n",
       "3   Constellations              In Between Dreams   Jack Johnson  2005  \n",
       "4     Learn To Fly  There Is Nothing Left To Lose   Foo Fighters  1999  "
      ]
     },
     "execution_count": 13,
     "metadata": {},
     "output_type": "execute_result"
    }
   ],
   "source": [
    "#Previewing the merged dataframe\n",
    "df.head()"
   ]
  },
  {
   "cell_type": "code",
   "execution_count": null,
   "id": "a9464b19",
   "metadata": {
    "id": "a9464b19"
   },
   "outputs": [],
   "source": [
    "#Finding the number of songs each user has listened to\n",
    "user_dict = dict()\n",
    "for y in range(0, len(df)):\n",
    "    if df['user_id'][y] in user_dict:\n",
    "        user_dict[df['user_id'][y]] += 1\n",
    "    else:\n",
    "        user_dict[df['user_id'][y]] = 1"
   ]
  },
  {
   "cell_type": "markdown",
   "id": "91395e32",
   "metadata": {
    "id": "91395e32"
   },
   "source": [
    "#### Observations:\n",
    "- There are many users who have listened to very few songs\n",
    "- We will limit our dataset to only those users who have listened to at least 50 different songs"
   ]
  },
  {
   "cell_type": "code",
   "execution_count": null,
   "id": "e960931c",
   "metadata": {
    "id": "e960931c"
   },
   "outputs": [],
   "source": [
    "#Using the user_dict dictionary to filter df to only include those users who have listened to at least 50 different songs\n",
    "remove_users = []\n",
    "for user, count in user_dict.items():\n",
    "    if count < 50:\n",
    "        remove_users.append(user)\n",
    "df = df.loc[~df['user_id'].isin(remove_users)]\n",
    "df = df.reset_index(drop = True)"
   ]
  },
  {
   "cell_type": "code",
   "execution_count": null,
   "id": "d4ed0aab",
   "metadata": {
    "id": "d4ed0aab"
   },
   "outputs": [],
   "source": [
    "#Finding the number of users who have listened to each song\n",
    "song_dict = dict()\n",
    "for y in range(0, len(df)):\n",
    "    if df['song_id'][y] in song_dict:\n",
    "        song_dict[df['song_id'][y]] += 1\n",
    "    else:\n",
    "        song_dict[df['song_id'][y]] = 1"
   ]
  },
  {
   "cell_type": "markdown",
   "id": "50712c26",
   "metadata": {
    "id": "50712c26"
   },
   "source": [
    "#### Observations:\n",
    "- There are many songs that have been listened to by very few users\n",
    "- We will limit our dataset to only those songs that have been listened to by at least 100 users"
   ]
  },
  {
   "cell_type": "code",
   "execution_count": null,
   "id": "2124a59c",
   "metadata": {
    "id": "2124a59c"
   },
   "outputs": [],
   "source": [
    "#Using the song_dict dictionary to filter df to only include those songs that have been listened to by at least 100 different users\n",
    "remove_songs = []\n",
    "for song, count in song_dict.items():\n",
    "    if count < 100:\n",
    "        remove_songs.append(song)\n",
    "df = df.loc[~df['song_id'].isin(remove_songs)]\n",
    "df = df.reset_index(drop = True)"
   ]
  },
  {
   "cell_type": "code",
   "execution_count": null,
   "id": "33e03c52",
   "metadata": {
    "id": "33e03c52"
   },
   "outputs": [],
   "source": [
    "#Removing rows with value of 0 for year\n",
    "df = df[df['year'] != 0]\n",
    "df = df.reset_index(drop = True)"
   ]
  },
  {
   "cell_type": "code",
   "execution_count": null,
   "id": "5b0037d4",
   "metadata": {
    "colab": {
     "base_uri": "https://localhost:8080/"
    },
    "id": "5b0037d4",
    "outputId": "02fc52a4-5118-4c90-855b-4e6f43c5ffa7"
   },
   "outputs": [
    {
     "data": {
      "text/plain": [
       "416413"
      ]
     },
     "execution_count": 19,
     "metadata": {},
     "output_type": "execute_result"
    }
   ],
   "source": [
    "len(df)"
   ]
  },
  {
   "cell_type": "markdown",
   "id": "89023439",
   "metadata": {
    "id": "89023439"
   },
   "source": [
    "**Observations:**\n",
    "- Removing 85,665 rows that have a value of 0 for year\n",
    "- We are left with 416,413 rows"
   ]
  },
  {
   "cell_type": "code",
   "execution_count": null,
   "id": "27f650f7",
   "metadata": {
    "id": "27f650f7"
   },
   "outputs": [],
   "source": [
    "#Applying label encoding for user_id and song_id\n",
    "label_encoder = preprocessing.LabelEncoder()\n",
    "\n",
    "df['user_id']= label_encoder.fit_transform(df['user_id'])\n",
    "df['song_id']= label_encoder.fit_transform(df['song_id'])"
   ]
  },
  {
   "cell_type": "markdown",
   "id": "c924d9c2",
   "metadata": {
    "id": "c924d9c2"
   },
   "source": [
    "## Exploratory Data Analysis"
   ]
  },
  {
   "cell_type": "markdown",
   "id": "b8405599",
   "metadata": {
    "id": "b8405599"
   },
   "source": [
    "Exploring our final dataset:"
   ]
  },
  {
   "cell_type": "code",
   "execution_count": null,
   "id": "64ebfe01",
   "metadata": {
    "colab": {
     "base_uri": "https://localhost:8080/"
    },
    "id": "64ebfe01",
    "outputId": "80eca58a-3db6-44d9-e329-d5ef4a7df760"
   },
   "outputs": [
    {
     "name": "stdout",
     "output_type": "stream",
     "text": [
      "Number of users: 10007\n",
      "Number of songs: 1964\n",
      "Number of artists: 659\n"
     ]
    }
   ],
   "source": [
    "#Retrieving the number of users, songs and artists in our dataset\n",
    "print('Number of users:', len(df['user_id'].unique()))\n",
    "print('Number of songs:', len(df['song_id'].unique()))\n",
    "print('Number of artists:', len(df['artist_name'].unique()))"
   ]
  },
  {
   "cell_type": "code",
   "execution_count": null,
   "id": "8318fd36",
   "metadata": {
    "colab": {
     "base_uri": "https://localhost:8080/"
    },
    "id": "8318fd36",
    "outputId": "a1774bf0-dcb9-43c3-bd25-88ce72aa094b"
   },
   "outputs": [
    {
     "name": "stdout",
     "output_type": "stream",
     "text": [
      "User: 9826\n",
      "Plays: 392 \n",
      "\n",
      "User: 8061\n",
      "Plays: 342 \n",
      "\n",
      "User: 4175\n",
      "Plays: 325 \n",
      "\n",
      "User: 1402\n",
      "Plays: 312 \n",
      "\n",
      "User: 4296\n",
      "Plays: 304 \n",
      "\n"
     ]
    }
   ],
   "source": [
    "#Finding the users who have listened to the most songs\n",
    "user_dict2 = dict()\n",
    "for y in range(0, len(df)):\n",
    "    if df['user_id'][y] in user_dict2:\n",
    "        user_dict2[df['user_id'][y]] += 1\n",
    "    else:\n",
    "        user_dict2[df['user_id'][y]] = 1\n",
    "\n",
    "for key, value in sorted(user_dict2.items(), key=lambda x: x[1], reverse=True)[0:5]:\n",
    "    print('User:', key)\n",
    "    print('Plays:', value, '\\n')"
   ]
  },
  {
   "cell_type": "code",
   "execution_count": null,
   "id": "8749e0c9",
   "metadata": {
    "colab": {
     "base_uri": "https://localhost:8080/"
    },
    "id": "8749e0c9",
    "outputId": "99ba742e-8117-4d36-c171-0cfe1e9af117"
   },
   "outputs": [
    {
     "name": "stdout",
     "output_type": "stream",
     "text": [
      "Song: Secrets\n",
      "Users: 1925 \n",
      "\n",
      "Song: Revelry\n",
      "Users: 1806 \n",
      "\n",
      "Song: Undo\n",
      "Users: 1751 \n",
      "\n",
      "Song: Use Somebody\n",
      "Users: 1723 \n",
      "\n",
      "Song: Fireflies\n",
      "Users: 1624 \n",
      "\n"
     ]
    }
   ],
   "source": [
    "#Finding the songs played by the most users\n",
    "song_dict2 = dict()\n",
    "for y in range(0, len(df)):\n",
    "    if df['song_id'][y] in song_dict2:\n",
    "        song_dict2[df['song_id'][y]] += 1\n",
    "    else:\n",
    "        song_dict2[df['song_id'][y]] = 1\n",
    "\n",
    "for key, value in sorted(song_dict2.items(), key=lambda x: x[1], reverse=True)[0:5]:\n",
    "    for y in range(0, len(df)):\n",
    "        if df['song_id'][y] == key:\n",
    "            print('Song:', df['title'][y])\n",
    "            print('Users:', value, '\\n')\n",
    "            break"
   ]
  },
  {
   "cell_type": "code",
   "execution_count": null,
   "id": "0544025f",
   "metadata": {
    "colab": {
     "base_uri": "https://localhost:8080/"
    },
    "id": "0544025f",
    "outputId": "d4c4bdad-a8e9-4912-8c80-993af7a1b275"
   },
   "outputs": [
    {
     "data": {
      "text/plain": [
       "year\n",
       "2006     86906\n",
       "2007    120516\n",
       "2008    133119\n",
       "2009    140078\n",
       "2010     53730\n",
       "Name: play_count, dtype: int64"
      ]
     },
     "execution_count": 24,
     "metadata": {},
     "output_type": "execute_result"
    }
   ],
   "source": [
    "#Number of plays by year of release of song\n",
    "df.groupby('year').sum()['play_count'].tail()"
   ]
  },
  {
   "cell_type": "code",
   "execution_count": null,
   "id": "35a2fbb1",
   "metadata": {
    "colab": {
     "base_uri": "https://localhost:8080/",
     "height": 306
    },
    "id": "35a2fbb1",
    "outputId": "bc37a271-f44a-45f9-a58c-c73d48229f20"
   },
   "outputs": [
    {
     "data": {
      "image/png": "[encoded data removed]",
      "text/plain": [
       "<Figure size 2160x720 with 1 Axes>"
      ]
     },
     "metadata": {
      "needs_background": "light"
     },
     "output_type": "display_data"
    }
   ],
   "source": [
    "#Plotting the number of plays by year of release of song\n",
    "plt.figure(figsize=(30,10))\n",
    "sns.barplot(x = df.groupby('year').sum().index, y = 'play_count', data = df.groupby('year').sum())\n",
    "plt.ylabel('Number of Plays', fontsize = 20) \n",
    "plt.xlabel('Release Year', fontsize = 20)\n",
    "plt.yticks(fontsize = 15)\n",
    "plt.show()"
   ]
  },
  {
   "cell_type": "markdown",
   "id": "c6cfd563",
   "metadata": {
    "id": "c6cfd563"
   },
   "source": [
    "#### Observations:\n",
    "- A significant number of rows have a value of 0 for year\n",
    "- Otherwise most plays seem to be for songs released in the 2000s"
   ]
  },
  {
   "cell_type": "markdown",
   "id": "fafc77d5",
   "metadata": {
    "id": "fafc77d5"
   },
   "source": [
    "# III. Proposed Approach"
   ]
  },
  {
   "cell_type": "markdown",
   "id": "c589d54c",
   "metadata": {
    "id": "c589d54c"
   },
   "source": [
    "## Potential Techniques"
   ]
  },
  {
   "cell_type": "markdown",
   "id": "0894ef01",
   "metadata": {
    "id": "0894ef01"
   },
   "source": [
    "Various types of recommendation systems should be created and tested to find the most effective solution. Types of recommendation systems to test include:\n",
    "- Rank Based Recommendation System\n",
    "- Collaborative Filtering Based Recommendation System\n",
    "- Model Based Collaborative Filtering Recommendation System"
   ]
  },
  {
   "cell_type": "markdown",
   "id": "ba6c4870",
   "metadata": {
    "id": "ba6c4870"
   },
   "source": [
    "## Overall Solution Design"
   ]
  },
  {
   "cell_type": "markdown",
   "id": "3006f07f",
   "metadata": {
    "id": "3006f07f"
   },
   "source": [
    "We will create each of the recommendation systems listed above in the given order, testing the effectiveness of each and tuning as needed based on the key performance indicators listed below. We will primarily be using the Surprise and Scikit-learn packages to do so."
   ]
  },
  {
   "cell_type": "markdown",
   "id": "483618f3",
   "metadata": {
    "id": "483618f3"
   },
   "source": [
    "## Measures of Success"
   ]
  },
  {
   "cell_type": "markdown",
   "id": "2c9bd345",
   "metadata": {
    "id": "2c9bd345"
   },
   "source": [
    "The metrics we will be monitoring include:\n",
    "\n",
    "**Precision** - The fraction of recommended songs that are relevant to the user\n",
    "\n",
    "**Recall** - The fraction of relevant songs that are recommended to the user\n",
    "\n",
    "**F1-Score** - The harmonic mean of the Precision and Recall\n",
    "\n",
    "As both Precision and Recall are important in this situation, we will use the F1-Score as our primary performance metric."
   ]
  },
  {
   "cell_type": "markdown",
   "id": "a80aa671",
   "metadata": {
    "id": "a80aa671"
   },
   "source": [
    "# **Milestone 2**"
   ]
  },
  {
   "cell_type": "markdown",
   "id": "203bda52",
   "metadata": {
    "id": "203bda52"
   },
   "source": [
    "# I. Rank Based Recommendation System"
   ]
  },
  {
   "cell_type": "markdown",
   "id": "8abfe657",
   "metadata": {
    "id": "8abfe657"
   },
   "source": [
    "We will use a song's average number of plays per user as an indicator of its popularity, and build a recommendation system that suggests the top 10 most popular songs that meet a minimum threshold for number of users that have listened to it."
   ]
  },
  {
   "cell_type": "code",
   "execution_count": null,
   "id": "747ed3c7",
   "metadata": {
    "colab": {
     "base_uri": "https://localhost:8080/",
     "height": 237
    },
    "id": "747ed3c7",
    "outputId": "5dd67708-ad7b-4c83-ae18-34207d5bfded"
   },
   "outputs": [
    {
     "data": {
      "text/html": [
       "\n",
       "  <div id=\"df-4d4f88fd-af95-499f-8711-27ce8e42af9e\">\n",
       "    <div class=\"colab-df-container\">\n",
       "      <div>\n",
       "<style scoped>\n",
       "    .dataframe tbody tr th:only-of-type {\n",
       "        vertical-align: middle;\n",
       "    }\n",
       "\n",
       "    .dataframe tbody tr th {\n",
       "        vertical-align: top;\n",
       "    }\n",
       "\n",
       "    .dataframe thead th {\n",
       "        text-align: right;\n",
       "    }\n",
       "</style>\n",
       "<table border=\"1\" class=\"dataframe\">\n",
       "  <thead>\n",
       "    <tr style=\"text-align: right;\">\n",
       "      <th></th>\n",
       "      <th>average_plays</th>\n",
       "      <th>count_users</th>\n",
       "    </tr>\n",
       "    <tr>\n",
       "      <th>song_id</th>\n",
       "      <th></th>\n",
       "      <th></th>\n",
       "    </tr>\n",
       "  </thead>\n",
       "  <tbody>\n",
       "    <tr>\n",
       "      <th>788</th>\n",
       "      <td>11.496815</td>\n",
       "      <td>157</td>\n",
       "    </tr>\n",
       "    <tr>\n",
       "      <th>1645</th>\n",
       "      <td>8.479310</td>\n",
       "      <td>290</td>\n",
       "    </tr>\n",
       "    <tr>\n",
       "      <th>120</th>\n",
       "      <td>8.416563</td>\n",
       "      <td>1606</td>\n",
       "    </tr>\n",
       "    <tr>\n",
       "      <th>72</th>\n",
       "      <td>7.954286</td>\n",
       "      <td>175</td>\n",
       "    </tr>\n",
       "    <tr>\n",
       "      <th>1154</th>\n",
       "      <td>7.547170</td>\n",
       "      <td>106</td>\n",
       "    </tr>\n",
       "  </tbody>\n",
       "</table>\n",
       "</div>\n",
       "      <button class=\"colab-df-convert\" onclick=\"convertToInteractive('df-4d4f88fd-af95-499f-8711-27ce8e42af9e')\"\n",
       "              title=\"Convert this dataframe to an interactive table.\"\n",
       "              style=\"display:none;\">\n",
       "        \n",
       "  <svg xmlns=\"http://www.w3.org/2000/svg\" height=\"24px\"viewBox=\"0 0 24 24\"\n",
       "       width=\"24px\">\n",
       "    <path d=\"M0 0h24v24H0V0z\" fill=\"none\"/>\n",
       "    <path d=\"M18.56 5.44l.94 2.06.94-2.06 2.06-.94-2.06-.94-.94-2.06-.94 2.06-2.06.94zm-11 1L8.5 8.5l.94-2.06 2.06-.94-2.06-.94L8.5 2.5l-.94 2.06-2.06.94zm10 10l.94 2.06.94-2.06 2.06-.94-2.06-.94-.94-2.06-.94 2.06-2.06.94z\"/><path d=\"M17.41 7.96l-1.37-1.37c-.4-.4-.92-.59-1.43-.59-.52 0-1.04.2-1.43.59L10.3 9.45l-7.72 7.72c-.78.78-.78 2.05 0 2.83L4 21.41c.39.39.9.59 1.41.59.51 0 1.02-.2 1.41-.59l7.78-7.78 2.81-2.81c.8-.78.8-2.07 0-2.86zM5.41 20L4 18.59l7.72-7.72 1.47 1.35L5.41 20z\"/>\n",
       "  </svg>\n",
       "      </button>\n",
       "      \n",
       "  <style>\n",
       "    .colab-df-container {\n",
       "      display:flex;\n",
       "      flex-wrap:wrap;\n",
       "      gap: 12px;\n",
       "    }\n",
       "\n",
       "    .colab-df-convert {\n",
       "      background-color: #E8F0FE;\n",
       "      border: none;\n",
       "      border-radius: 50%;\n",
       "      cursor: pointer;\n",
       "      display: none;\n",
       "      fill: #1967D2;\n",
       "      height: 32px;\n",
       "      padding: 0 0 0 0;\n",
       "      width: 32px;\n",
       "    }\n",
       "\n",
       "    .colab-df-convert:hover {\n",
       "      background-color: #E2EBFA;\n",
       "      box-shadow: 0px 1px 2px rgba(60, 64, 67, 0.3), 0px 1px 3px 1px rgba(60, 64, 67, 0.15);\n",
       "      fill: #174EA6;\n",
       "    }\n",
       "\n",
       "    [theme=dark] .colab-df-convert {\n",
       "      background-color: #3B4455;\n",
       "      fill: #D2E3FC;\n",
       "    }\n",
       "\n",
       "    [theme=dark] .colab-df-convert:hover {\n",
       "      background-color: #434B5C;\n",
       "      box-shadow: 0px 1px 3px 1px rgba(0, 0, 0, 0.15);\n",
       "      filter: drop-shadow(0px 1px 2px rgba(0, 0, 0, 0.3));\n",
       "      fill: #FFFFFF;\n",
       "    }\n",
       "  </style>\n",
       "\n",
       "      <script>\n",
       "        const buttonEl =\n",
       "          document.querySelector('#df-4d4f88fd-af95-499f-8711-27ce8e42af9e button.colab-df-convert');\n",
       "        buttonEl.style.display =\n",
       "          google.colab.kernel.accessAllowed ? 'block' : 'none';\n",
       "\n",
       "        async function convertToInteractive(key) {\n",
       "          const element = document.querySelector('#df-4d4f88fd-af95-499f-8711-27ce8e42af9e');\n",
       "          const dataTable =\n",
       "            await google.colab.kernel.invokeFunction('convertToInteractive',\n",
       "                                                     [key], {});\n",
       "          if (!dataTable) return;\n",
       "\n",
       "          const docLinkHtml = 'Like what you see? Visit the ' +\n",
       "            '<a target=\"_blank\" href=https://colab.research.google.com/notebooks/data_table.ipynb>data table notebook</a>'\n",
       "            + ' to learn more about interactive tables.';\n",
       "          element.innerHTML = '';\n",
       "          dataTable['output_type'] = 'display_data';\n",
       "          await google.colab.output.renderOutput(dataTable, element);\n",
       "          const docLink = document.createElement('div');\n",
       "          docLink.innerHTML = docLinkHtml;\n",
       "          element.appendChild(docLink);\n",
       "        }\n",
       "      </script>\n",
       "    </div>\n",
       "  </div>\n",
       "  "
      ],
      "text/plain": [
       "         average_plays  count_users\n",
       "song_id                            \n",
       "788          11.496815          157\n",
       "1645          8.479310          290\n",
       "120           8.416563         1606\n",
       "72            7.954286          175\n",
       "1154          7.547170          106"
      ]
     },
     "execution_count": 26,
     "metadata": {},
     "output_type": "execute_result"
    }
   ],
   "source": [
    "#Creating a dataframe with song_id as index and columns for the average number of plays per user and number of users who have listened\n",
    "average_plays = df.groupby('song_id').mean()['play_count']\n",
    "\n",
    "count_users = df.groupby('song_id').count()['user_id']\n",
    "\n",
    "final_plays = pd.DataFrame({'average_plays': average_plays, 'count_users': count_users})\n",
    "\n",
    "final_plays = final_plays.sort_values(by = 'average_plays', ascending = False)\n",
    "\n",
    "final_plays.head()"
   ]
  },
  {
   "cell_type": "code",
   "execution_count": null,
   "id": "03d02c7c",
   "metadata": {
    "id": "03d02c7c"
   },
   "outputs": [],
   "source": [
    "#Defining a function to get the top n songs based on highest average plays and minimum count of users\n",
    "def top_n_songs(final_plays, n, minimum_users):\n",
    "    recommendations = final_plays[final_plays['count_users'] >= minimum_users]\n",
    "    recommendations = recommendations.sort_values(by = 'average_plays', ascending = False)\n",
    "    rec_list = list(recommendations.index[0:n])\n",
    "    for x in rec_list:\n",
    "        for y in range(0, len(df)):\n",
    "            if df['song_id'][y] == x:\n",
    "                print(df['title'][y])\n",
    "                break"
   ]
  },
  {
   "cell_type": "code",
   "execution_count": null,
   "id": "88f576bd",
   "metadata": {
    "colab": {
     "base_uri": "https://localhost:8080/"
    },
    "id": "88f576bd",
    "outputId": "a188f9a1-fe54-41dc-c2a1-2dea78c04dab"
   },
   "outputs": [
    {
     "name": "stdout",
     "output_type": "stream",
     "text": [
      "Call It Off (Album Version)\n",
      "The Big Gundown\n",
      "You're The One\n",
      "Oceanside\n",
      "Here_ There And Everywhere\n",
      "Undo\n",
      "Something (Album Version)\n",
      "Save Room\n",
      "Forgive Me\n",
      "Rio\n"
     ]
    }
   ],
   "source": [
    "#Using our function to recommend the top 10 songs based on popularity with a minimum of 100 users/listeners\n",
    "top_n_songs(final_plays, 10, 100) "
   ]
  },
  {
   "cell_type": "markdown",
   "id": "e6bb159a",
   "metadata": {
    "id": "e6bb159a"
   },
   "source": [
    "We have successfully constructed a rudimentary recommendation system that suggests songs based on their popularity. However, this does not provide individualized suggestions for each user."
   ]
  },
  {
   "cell_type": "markdown",
   "id": "1cbe0e8e",
   "metadata": {
    "id": "1cbe0e8e"
   },
   "source": [
    "# II. Collaborative Filtering Based Recommendation System"
   ]
  },
  {
   "cell_type": "markdown",
   "id": "a262115b",
   "metadata": {
    "id": "a262115b"
   },
   "source": [
    "To provide individualized suggestions we will next attempt to create and tune two types of collaborative filtering based recommendation systems - one user user based and one item item based. We will use the Surprise library to do this."
   ]
  },
  {
   "cell_type": "code",
   "execution_count": null,
   "id": "46b88d8e",
   "metadata": {
    "colab": {
     "base_uri": "https://localhost:8080/"
    },
    "id": "46b88d8e",
    "outputId": "b23a149e-a813-4bf3-b733-bc6ad802363d"
   },
   "outputs": [
    {
     "name": "stdout",
     "output_type": "stream",
     "text": [
      "Collecting surprise\n",
      "  Downloading surprise-0.1-py2.py3-none-any.whl (1.8 kB)\n",
      "Collecting scikit-surprise\n",
      "  Downloading scikit-surprise-1.1.1.tar.gz (11.8 MB)\n",
      "\u001b[K     |████████████████████████████████| 11.8 MB 5.4 MB/s \n",
      "\u001b[?25hRequirement already satisfied: joblib>=0.11 in /usr/local/lib/python3.7/dist-packages (from scikit-surprise->surprise) (1.1.0)\n",
      "Requirement already satisfied: numpy>=1.11.2 in /usr/local/lib/python3.7/dist-packages (from scikit-surprise->surprise) (1.21.5)\n",
      "Requirement already satisfied: scipy>=1.0.0 in /usr/local/lib/python3.7/dist-packages (from scikit-surprise->surprise) (1.4.1)\n",
      "Requirement already satisfied: six>=1.10.0 in /usr/local/lib/python3.7/dist-packages (from scikit-surprise->surprise) (1.15.0)\n",
      "Building wheels for collected packages: scikit-surprise\n",
      "  Building wheel for scikit-surprise (setup.py) ... \u001b[?25l\u001b[?25hdone\n",
      "  Created wheel for scikit-surprise: filename=scikit_surprise-1.1.1-cp37-cp37m-linux_x86_64.whl size=1630154 sha256=9560061ac0e27ea86a94f63f27a89a1d917ed1538e2598f88392b7a85d8349b4\n",
      "  Stored in directory: /root/.cache/pip/wheels/76/44/74/b498c42be47b2406bd27994e16c5188e337c657025ab400c1c\n",
      "Successfully built scikit-surprise\n",
      "Installing collected packages: scikit-surprise, surprise\n",
      "Successfully installed scikit-surprise-1.1.1 surprise-0.1\n"
     ]
    }
   ],
   "source": [
    "#Installing the Surprise library\n",
    "!pip install surprise"
   ]
  },
  {
   "cell_type": "code",
   "execution_count": null,
   "id": "5rM3exgpznHs",
   "metadata": {
    "id": "5rM3exgpznHs"
   },
   "outputs": [],
   "source": [
    "#Installing the necessary Suprise classes and functions\n",
    "from surprise import accuracy\n",
    "from surprise.reader import Reader\n",
    "from surprise.dataset import Dataset\n",
    "from surprise.model_selection import GridSearchCV\n",
    "from surprise.model_selection import train_test_split\n",
    "from surprise.prediction_algorithms.knns import KNNBasic\n",
    "from surprise.prediction_algorithms.matrix_factorization import SVD\n",
    "from surprise.model_selection import KFold\n",
    "from surprise import CoClustering"
   ]
  },
  {
   "cell_type": "code",
   "execution_count": null,
   "id": "vO338lE7Zorm",
   "metadata": {
    "id": "vO338lE7Zorm"
   },
   "outputs": [],
   "source": [
    "#Also importing defaultdict to create a dictionary output that does not raise a key error\n",
    "from collections import defaultdict"
   ]
  },
  {
   "cell_type": "markdown",
   "id": "-EAoxOQ2W0cc",
   "metadata": {
    "id": "-EAoxOQ2W0cc"
   },
   "source": [
    "We will create a function that will take a recommendation model as an input and return its precision@k and recall@k, with k being the number of top suggested songs taken under consideration and threshold being the minimum number of times a user is predicted to play a song for it to be relevant. We will start by assigning k=10 as we are looking to suggest 10 songs per user, and threshold=1.5 as this would mean a user is expected to listen to a song more than once in order for it to be relevant.\n"
   ]
  },
  {
   "cell_type": "code",
   "execution_count": null,
   "id": "HkUbk8Lyz_xp",
   "metadata": {
    "id": "HkUbk8Lyz_xp"
   },
   "outputs": [],
   "source": [
    "#Creating a function that will return the precision@k and recall@k, and compute the F_1 score\n",
    "def precision_recall_at_k(model, k=10, threshold=1.5):\n",
    "\n",
    "    # First map the predictions to each user.\n",
    "    user_est_true = defaultdict(list)\n",
    "    \n",
    "    # Making predictions on the test data\n",
    "    predictions=model.test(testset)\n",
    "    \n",
    "    for uid, _, true_r, est, _ in predictions:\n",
    "        user_est_true[uid].append((est, true_r))\n",
    "\n",
    "    precisions = dict()\n",
    "    recalls = dict()\n",
    "    for uid, user_ratings in user_est_true.items():\n",
    "\n",
    "        # Sort user play counts by estimated value\n",
    "        user_ratings.sort(key=lambda x: x[0], reverse=True)\n",
    "\n",
    "        # Number of relevant songs\n",
    "        n_rel = sum((true_r >= threshold) for (_, true_r) in user_ratings)\n",
    "\n",
    "        # Number of recommended songs in top k\n",
    "        n_rec_k = sum((est >= threshold) for (est, _) in user_ratings[:k])\n",
    "\n",
    "        # Number of relevant and recommended songs in top k\n",
    "        n_rel_and_rec_k = sum(((true_r >= threshold) and (est >= threshold))\n",
    "                              for (est, true_r) in user_ratings[:k])\n",
    "\n",
    "        # Precision@K: Proportion of recommended songs that are relevant\n",
    "        # When n_rec_k is 0, Precision is undefined. We here set Precision to 0 when n_rec_k is 0.\n",
    "\n",
    "        precisions[uid] = n_rel_and_rec_k / n_rec_k if n_rec_k != 0 else 0\n",
    "\n",
    "        # Recall@K: Proportion of relevant songs that are recommended\n",
    "        # When n_rel is 0, Recall is undefined. We here set Recall to 0 when n_rel is 0.\n",
    "\n",
    "        recalls[uid] = n_rel_and_rec_k / n_rel if n_rel != 0 else 0\n",
    "    \n",
    "    # Mean of all the predicted precisions are calculated.\n",
    "    precision = round((sum(prec for prec in precisions.values()) / len(precisions)),3)\n",
    "    # Mean of all the predicted recalls are calculated.\n",
    "    recall = round((sum(rec for rec in recalls.values()) / len(recalls)),3)\n",
    "    \n",
    "    accuracy.rmse(predictions)\n",
    "    print('Precision: ', precision) # Command to print the overall precision\n",
    "    print('Recall: ', recall) # Command to print the overall recall\n",
    "    print('F_1 score: ', round((2*precision*recall)/(precision+recall),3)) # Formula to compute the F-1 score."
   ]
  },
  {
   "cell_type": "code",
   "execution_count": null,
   "id": "xI-CDziYYBml",
   "metadata": {
    "id": "xI-CDziYYBml"
   },
   "outputs": [],
   "source": [
    "# instantiating Reader scale with expected rating scale\n",
    "reader = Reader(rating_scale=(1, 879))\n",
    "\n",
    "# loading the rating dataset\n",
    "data = Dataset.load_from_df(df[['user_id', 'song_id', 'play_count']], reader)\n",
    "\n",
    "# splitting the data into train and test dataset\n",
    "trainset, testset = train_test_split(data, test_size=0.2, random_state=42)"
   ]
  },
  {
   "cell_type": "markdown",
   "id": "OenTGbtwYMtP",
   "metadata": {
    "id": "OenTGbtwYMtP"
   },
   "source": [
    "We will start by constructing a user user similarity-based collaborative filtering recommendation system."
   ]
  },
  {
   "cell_type": "code",
   "execution_count": null,
   "id": "AJX3ozxqYw-D",
   "metadata": {
    "colab": {
     "base_uri": "https://localhost:8080/"
    },
    "id": "AJX3ozxqYw-D",
    "outputId": "95a1a802-feb2-4390-f1b7-2a9dd3622e48"
   },
   "outputs": [
    {
     "name": "stdout",
     "output_type": "stream",
     "text": [
      "RMSE: 6.0488\n",
      "Precision:  0.44\n",
      "Recall:  0.761\n",
      "F_1 score:  0.558\n"
     ]
    }
   ],
   "source": [
    "#Declaring the similarity options.\n",
    "sim_options = {'name': 'cosine',\n",
    "               'user_based': True}\n",
    "\n",
    "#Initialize the KNNBasic model using sim_options provided, Verbose=False, and setting random_state=1\n",
    "sim_user_user = KNNBasic(sim_options = sim_options, verbose = False, random_state = 1)\n",
    "\n",
    "# Fit the model on the training data\n",
    "sim_user_user.fit(trainset)\n",
    "\n",
    "# Let us compute precision@k, recall@k, and f_1 score\n",
    "precision_recall_at_k(sim_user_user)"
   ]
  },
  {
   "cell_type": "markdown",
   "id": "ggYhUguydZx8",
   "metadata": {
    "id": "ggYhUguydZx8"
   },
   "source": [
    "**Observations:**\n",
    "- Our baseline model returns an RMSE of 6.0488 and an F_1 score of 0.558"
   ]
  },
  {
   "cell_type": "markdown",
   "id": "ld-ov8mjY1nc",
   "metadata": {
    "id": "ld-ov8mjY1nc"
   },
   "source": [
    "Now we will see if we can improve on our above results by tuning our model. We will use GridSearchCV to find the optimal parameters."
   ]
  },
  {
   "cell_type": "code",
   "execution_count": null,
   "id": "13knxOOOda9N",
   "metadata": {
    "colab": {
     "base_uri": "https://localhost:8080/"
    },
    "id": "13knxOOOda9N",
    "outputId": "a7081138-3fcf-4d1f-8ecd-1dfe7df10895"
   },
   "outputs": [
    {
     "name": "stdout",
     "output_type": "stream",
     "text": [
      "Computing the cosine similarity matrix...\n",
      "Done computing similarity matrix.\n",
      "Computing the cosine similarity matrix...\n",
      "Done computing similarity matrix.\n",
      "Computing the cosine similarity matrix...\n",
      "Done computing similarity matrix.\n",
      "Computing the cosine similarity matrix...\n",
      "Done computing similarity matrix.\n",
      "Computing the cosine similarity matrix...\n",
      "Done computing similarity matrix.\n",
      "Computing the cosine similarity matrix...\n",
      "Done computing similarity matrix.\n",
      "Computing the pearson similarity matrix...\n",
      "Done computing similarity matrix.\n",
      "Computing the pearson similarity matrix...\n",
      "Done computing similarity matrix.\n",
      "Computing the pearson similarity matrix...\n",
      "Done computing similarity matrix.\n",
      "Computing the pearson similarity matrix...\n",
      "Done computing similarity matrix.\n",
      "Computing the pearson similarity matrix...\n",
      "Done computing similarity matrix.\n",
      "Computing the pearson similarity matrix...\n",
      "Done computing similarity matrix.\n",
      "Estimating biases using als...\n",
      "Computing the pearson_baseline similarity matrix...\n",
      "Done computing similarity matrix.\n",
      "Estimating biases using als...\n",
      "Computing the pearson_baseline similarity matrix...\n",
      "Done computing similarity matrix.\n",
      "Estimating biases using als...\n",
      "Computing the pearson_baseline similarity matrix...\n",
      "Done computing similarity matrix.\n",
      "Estimating biases using als...\n",
      "Computing the pearson_baseline similarity matrix...\n",
      "Done computing similarity matrix.\n",
      "Estimating biases using als...\n",
      "Computing the pearson_baseline similarity matrix...\n",
      "Done computing similarity matrix.\n",
      "Estimating biases using als...\n",
      "Computing the pearson_baseline similarity matrix...\n",
      "Done computing similarity matrix.\n",
      "Computing the cosine similarity matrix...\n",
      "Done computing similarity matrix.\n",
      "Computing the cosine similarity matrix...\n",
      "Done computing similarity matrix.\n",
      "Computing the cosine similarity matrix...\n",
      "Done computing similarity matrix.\n",
      "Computing the cosine similarity matrix...\n",
      "Done computing similarity matrix.\n",
      "Computing the cosine similarity matrix...\n",
      "Done computing similarity matrix.\n",
      "Computing the cosine similarity matrix...\n",
      "Done computing similarity matrix.\n",
      "Computing the pearson similarity matrix...\n",
      "Done computing similarity matrix.\n",
      "Computing the pearson similarity matrix...\n",
      "Done computing similarity matrix.\n",
      "Computing the pearson similarity matrix...\n",
      "Done computing similarity matrix.\n",
      "Computing the pearson similarity matrix...\n",
      "Done computing similarity matrix.\n",
      "Computing the pearson similarity matrix...\n",
      "Done computing similarity matrix.\n",
      "Computing the pearson similarity matrix...\n",
      "Done computing similarity matrix.\n",
      "Estimating biases using als...\n",
      "Computing the pearson_baseline similarity matrix...\n",
      "Done computing similarity matrix.\n",
      "Estimating biases using als...\n",
      "Computing the pearson_baseline similarity matrix...\n",
      "Done computing similarity matrix.\n",
      "Estimating biases using als...\n",
      "Computing the pearson_baseline similarity matrix...\n",
      "Done computing similarity matrix.\n",
      "Estimating biases using als...\n",
      "Computing the pearson_baseline similarity matrix...\n",
      "Done computing similarity matrix.\n",
      "Estimating biases using als...\n",
      "Computing the pearson_baseline similarity matrix...\n",
      "Done computing similarity matrix.\n",
      "Estimating biases using als...\n",
      "Computing the pearson_baseline similarity matrix...\n",
      "Done computing similarity matrix.\n",
      "Computing the cosine similarity matrix...\n",
      "Done computing similarity matrix.\n",
      "Computing the cosine similarity matrix...\n",
      "Done computing similarity matrix.\n",
      "Computing the cosine similarity matrix...\n",
      "Done computing similarity matrix.\n",
      "Computing the cosine similarity matrix...\n",
      "Done computing similarity matrix.\n",
      "Computing the cosine similarity matrix...\n",
      "Done computing similarity matrix.\n",
      "Computing the cosine similarity matrix...\n",
      "Done computing similarity matrix.\n",
      "Computing the pearson similarity matrix...\n",
      "Done computing similarity matrix.\n",
      "Computing the pearson similarity matrix...\n",
      "Done computing similarity matrix.\n",
      "Computing the pearson similarity matrix...\n",
      "Done computing similarity matrix.\n",
      "Computing the pearson similarity matrix...\n",
      "Done computing similarity matrix.\n",
      "Computing the pearson similarity matrix...\n",
      "Done computing similarity matrix.\n",
      "Computing the pearson similarity matrix...\n",
      "Done computing similarity matrix.\n",
      "Estimating biases using als...\n",
      "Computing the pearson_baseline similarity matrix...\n",
      "Done computing similarity matrix.\n",
      "Estimating biases using als...\n",
      "Computing the pearson_baseline similarity matrix...\n",
      "Done computing similarity matrix.\n",
      "Estimating biases using als...\n",
      "Computing the pearson_baseline similarity matrix...\n",
      "Done computing similarity matrix.\n",
      "Estimating biases using als...\n",
      "Computing the pearson_baseline similarity matrix...\n",
      "Done computing similarity matrix.\n",
      "Estimating biases using als...\n",
      "Computing the pearson_baseline similarity matrix...\n",
      "Done computing similarity matrix.\n",
      "Estimating biases using als...\n",
      "Computing the pearson_baseline similarity matrix...\n",
      "Done computing similarity matrix.\n",
      "Computing the cosine similarity matrix...\n",
      "Done computing similarity matrix.\n",
      "Computing the cosine similarity matrix...\n",
      "Done computing similarity matrix.\n",
      "Computing the cosine similarity matrix...\n",
      "Done computing similarity matrix.\n",
      "Computing the cosine similarity matrix...\n",
      "Done computing similarity matrix.\n",
      "Computing the cosine similarity matrix...\n",
      "Done computing similarity matrix.\n",
      "Computing the cosine similarity matrix...\n",
      "Done computing similarity matrix.\n",
      "Computing the pearson similarity matrix...\n",
      "Done computing similarity matrix.\n",
      "Computing the pearson similarity matrix...\n",
      "Done computing similarity matrix.\n",
      "Computing the pearson similarity matrix...\n",
      "Done computing similarity matrix.\n",
      "Computing the pearson similarity matrix...\n",
      "Done computing similarity matrix.\n",
      "Computing the pearson similarity matrix...\n",
      "Done computing similarity matrix.\n",
      "Computing the pearson similarity matrix...\n",
      "Done computing similarity matrix.\n",
      "Estimating biases using als...\n",
      "Computing the pearson_baseline similarity matrix...\n",
      "Done computing similarity matrix.\n",
      "Estimating biases using als...\n",
      "Computing the pearson_baseline similarity matrix...\n",
      "Done computing similarity matrix.\n",
      "Estimating biases using als...\n",
      "Computing the pearson_baseline similarity matrix...\n",
      "Done computing similarity matrix.\n",
      "Estimating biases using als...\n",
      "Computing the pearson_baseline similarity matrix...\n",
      "Done computing similarity matrix.\n",
      "Estimating biases using als...\n",
      "Computing the pearson_baseline similarity matrix...\n",
      "Done computing similarity matrix.\n",
      "Estimating biases using als...\n",
      "Computing the pearson_baseline similarity matrix...\n",
      "Done computing similarity matrix.\n",
      "Computing the cosine similarity matrix...\n",
      "Done computing similarity matrix.\n",
      "Computing the cosine similarity matrix...\n",
      "Done computing similarity matrix.\n",
      "Computing the cosine similarity matrix...\n",
      "Done computing similarity matrix.\n",
      "Computing the cosine similarity matrix...\n",
      "Done computing similarity matrix.\n",
      "Computing the cosine similarity matrix...\n",
      "Done computing similarity matrix.\n",
      "Computing the cosine similarity matrix...\n",
      "Done computing similarity matrix.\n",
      "Computing the pearson similarity matrix...\n",
      "Done computing similarity matrix.\n",
      "Computing the pearson similarity matrix...\n",
      "Done computing similarity matrix.\n",
      "Computing the pearson similarity matrix...\n",
      "Done computing similarity matrix.\n",
      "Computing the pearson similarity matrix...\n",
      "Done computing similarity matrix.\n",
      "Computing the pearson similarity matrix...\n",
      "Done computing similarity matrix.\n",
      "Computing the pearson similarity matrix...\n",
      "Done computing similarity matrix.\n",
      "Estimating biases using als...\n",
      "Computing the pearson_baseline similarity matrix...\n",
      "Done computing similarity matrix.\n",
      "Estimating biases using als...\n",
      "Computing the pearson_baseline similarity matrix...\n",
      "Done computing similarity matrix.\n",
      "Estimating biases using als...\n",
      "Computing the pearson_baseline similarity matrix...\n",
      "Done computing similarity matrix.\n",
      "Estimating biases using als...\n",
      "Computing the pearson_baseline similarity matrix...\n",
      "Done computing similarity matrix.\n",
      "Estimating biases using als...\n",
      "Computing the pearson_baseline similarity matrix...\n",
      "Done computing similarity matrix.\n",
      "Estimating biases using als...\n",
      "Computing the pearson_baseline similarity matrix...\n",
      "Done computing similarity matrix.\n",
      "Computing the cosine similarity matrix...\n",
      "Done computing similarity matrix.\n",
      "Computing the cosine similarity matrix...\n",
      "Done computing similarity matrix.\n",
      "Computing the cosine similarity matrix...\n",
      "Done computing similarity matrix.\n",
      "Computing the cosine similarity matrix...\n",
      "Done computing similarity matrix.\n",
      "Computing the cosine similarity matrix...\n",
      "Done computing similarity matrix.\n",
      "Computing the cosine similarity matrix...\n",
      "Done computing similarity matrix.\n",
      "Computing the pearson similarity matrix...\n",
      "Done computing similarity matrix.\n",
      "Computing the pearson similarity matrix...\n",
      "Done computing similarity matrix.\n",
      "Computing the pearson similarity matrix...\n",
      "Done computing similarity matrix.\n",
      "Computing the pearson similarity matrix...\n",
      "Done computing similarity matrix.\n",
      "Computing the pearson similarity matrix...\n",
      "Done computing similarity matrix.\n",
      "Computing the pearson similarity matrix...\n",
      "Done computing similarity matrix.\n",
      "Estimating biases using als...\n",
      "Computing the pearson_baseline similarity matrix...\n",
      "Done computing similarity matrix.\n",
      "Estimating biases using als...\n",
      "Computing the pearson_baseline similarity matrix...\n",
      "Done computing similarity matrix.\n",
      "Estimating biases using als...\n",
      "Computing the pearson_baseline similarity matrix...\n",
      "Done computing similarity matrix.\n",
      "Estimating biases using als...\n",
      "Computing the pearson_baseline similarity matrix...\n",
      "Done computing similarity matrix.\n",
      "Estimating biases using als...\n",
      "Computing the pearson_baseline similarity matrix...\n",
      "Done computing similarity matrix.\n",
      "Estimating biases using als...\n",
      "Computing the pearson_baseline similarity matrix...\n",
      "Done computing similarity matrix.\n",
      "Computing the cosine similarity matrix...\n",
      "Done computing similarity matrix.\n",
      "Computing the cosine similarity matrix...\n",
      "Done computing similarity matrix.\n",
      "Computing the cosine similarity matrix...\n",
      "Done computing similarity matrix.\n",
      "Computing the cosine similarity matrix...\n",
      "Done computing similarity matrix.\n",
      "Computing the cosine similarity matrix...\n",
      "Done computing similarity matrix.\n",
      "Computing the cosine similarity matrix...\n",
      "Done computing similarity matrix.\n",
      "Computing the pearson similarity matrix...\n",
      "Done computing similarity matrix.\n",
      "Computing the pearson similarity matrix...\n",
      "Done computing similarity matrix.\n",
      "Computing the pearson similarity matrix...\n",
      "Done computing similarity matrix.\n",
      "Computing the pearson similarity matrix...\n",
      "Done computing similarity matrix.\n",
      "Computing the pearson similarity matrix...\n",
      "Done computing similarity matrix.\n",
      "Computing the pearson similarity matrix...\n",
      "Done computing similarity matrix.\n",
      "Estimating biases using als...\n",
      "Computing the pearson_baseline similarity matrix...\n",
      "Done computing similarity matrix.\n",
      "Estimating biases using als...\n",
      "Computing the pearson_baseline similarity matrix...\n",
      "Done computing similarity matrix.\n",
      "Estimating biases using als...\n",
      "Computing the pearson_baseline similarity matrix...\n",
      "Done computing similarity matrix.\n",
      "Estimating biases using als...\n",
      "Computing the pearson_baseline similarity matrix...\n",
      "Done computing similarity matrix.\n",
      "Estimating biases using als...\n",
      "Computing the pearson_baseline similarity matrix...\n",
      "Done computing similarity matrix.\n",
      "Estimating biases using als...\n",
      "Computing the pearson_baseline similarity matrix...\n",
      "Done computing similarity matrix.\n",
      "Computing the cosine similarity matrix...\n",
      "Done computing similarity matrix.\n",
      "Computing the cosine similarity matrix...\n",
      "Done computing similarity matrix.\n",
      "Computing the cosine similarity matrix...\n",
      "Done computing similarity matrix.\n",
      "Computing the cosine similarity matrix...\n",
      "Done computing similarity matrix.\n",
      "Computing the cosine similarity matrix...\n",
      "Done computing similarity matrix.\n",
      "Computing the cosine similarity matrix...\n",
      "Done computing similarity matrix.\n",
      "Computing the pearson similarity matrix...\n",
      "Done computing similarity matrix.\n",
      "Computing the pearson similarity matrix...\n",
      "Done computing similarity matrix.\n",
      "Computing the pearson similarity matrix...\n",
      "Done computing similarity matrix.\n",
      "Computing the pearson similarity matrix...\n",
      "Done computing similarity matrix.\n",
      "Computing the pearson similarity matrix...\n",
      "Done computing similarity matrix.\n",
      "Computing the pearson similarity matrix...\n",
      "Done computing similarity matrix.\n",
      "Estimating biases using als...\n",
      "Computing the pearson_baseline similarity matrix...\n",
      "Done computing similarity matrix.\n",
      "Estimating biases using als...\n",
      "Computing the pearson_baseline similarity matrix...\n",
      "Done computing similarity matrix.\n",
      "Estimating biases using als...\n",
      "Computing the pearson_baseline similarity matrix...\n",
      "Done computing similarity matrix.\n",
      "Estimating biases using als...\n",
      "Computing the pearson_baseline similarity matrix...\n",
      "Done computing similarity matrix.\n",
      "Estimating biases using als...\n",
      "Computing the pearson_baseline similarity matrix...\n",
      "Done computing similarity matrix.\n",
      "Estimating biases using als...\n",
      "Computing the pearson_baseline similarity matrix...\n",
      "Done computing similarity matrix.\n",
      "Computing the cosine similarity matrix...\n",
      "Done computing similarity matrix.\n",
      "Computing the cosine similarity matrix...\n",
      "Done computing similarity matrix.\n",
      "Computing the cosine similarity matrix...\n",
      "Done computing similarity matrix.\n",
      "Computing the cosine similarity matrix...\n",
      "Done computing similarity matrix.\n",
      "Computing the cosine similarity matrix...\n",
      "Done computing similarity matrix.\n",
      "Computing the cosine similarity matrix...\n",
      "Done computing similarity matrix.\n",
      "Computing the pearson similarity matrix...\n",
      "Done computing similarity matrix.\n",
      "Computing the pearson similarity matrix...\n",
      "Done computing similarity matrix.\n",
      "Computing the pearson similarity matrix...\n",
      "Done computing similarity matrix.\n",
      "Computing the pearson similarity matrix...\n",
      "Done computing similarity matrix.\n",
      "Computing the pearson similarity matrix...\n",
      "Done computing similarity matrix.\n",
      "Computing the pearson similarity matrix...\n",
      "Done computing similarity matrix.\n",
      "Estimating biases using als...\n",
      "Computing the pearson_baseline similarity matrix...\n",
      "Done computing similarity matrix.\n",
      "Estimating biases using als...\n",
      "Computing the pearson_baseline similarity matrix...\n",
      "Done computing similarity matrix.\n",
      "Estimating biases using als...\n",
      "Computing the pearson_baseline similarity matrix...\n",
      "Done computing similarity matrix.\n",
      "Estimating biases using als...\n",
      "Computing the pearson_baseline similarity matrix...\n",
      "Done computing similarity matrix.\n",
      "Estimating biases using als...\n",
      "Computing the pearson_baseline similarity matrix...\n",
      "Done computing similarity matrix.\n",
      "Estimating biases using als...\n",
      "Computing the pearson_baseline similarity matrix...\n",
      "Done computing similarity matrix.\n",
      "5.053933218855552\n",
      "{'k': 30, 'min_k': 9, 'sim_options': {'name': 'pearson_baseline', 'user_based': True, 'min_support': 2}}\n"
     ]
    }
   ],
   "source": [
    "# setting up parameter grid to tune the hyperparameters\n",
    "param_grid = {'k': [10, 20, 30], 'min_k': [3, 6, 9], 'sim_options': {'name': [\"cosine\",'pearson',\"pearson_baseline\"], 'user_based': [True], \"min_support\":[2,4]}}\n",
    "\n",
    "# performing 3-fold cross validation to tune the hyperparameters\n",
    "gs = GridSearchCV(KNNBasic, param_grid, measures=['rmse'], cv=3, n_jobs=1)\n",
    "\n",
    "# fitting the data\n",
    "gs.fit(data)\n",
    "\n",
    "# best RMSE score\n",
    "print(gs.best_score['rmse'])\n",
    "\n",
    "# combination of parameters that gave the best RMSE score\n",
    "print(gs.best_params['rmse'])"
   ]
  },
  {
   "cell_type": "code",
   "execution_count": null,
   "id": "XrZZMNq8hFLh",
   "metadata": {
    "colab": {
     "base_uri": "https://localhost:8080/"
    },
    "id": "XrZZMNq8hFLh",
    "outputId": "1ff70e88-0c72-4d8d-e1dd-e95083431751"
   },
   "outputs": [
    {
     "name": "stdout",
     "output_type": "stream",
     "text": [
      "RMSE: 5.9675\n",
      "Precision:  0.459\n",
      "Recall:  0.757\n",
      "F_1 score:  0.571\n"
     ]
    }
   ],
   "source": [
    "# using the optimal similarity measure for user-user based collaborative filtering\n",
    "sim_options = {'name': 'pearson_baseline', 'user_based': True, 'min_support': 2}\n",
    "\n",
    "# creating an instance of KNNBasic with optimal hyperparameter values\n",
    "sim_user_user_optimized = KNNBasic(sim_options=sim_options, k=30, min_k=9, random_state=1, verbose=False)\n",
    "\n",
    "# training the algorithm on the trainset\n",
    "sim_user_user_optimized.fit(trainset)\n",
    "\n",
    "# Let us compute precision@k and recall@k also with k =10.\n",
    "precision_recall_at_k(sim_user_user_optimized)"
   ]
  },
  {
   "cell_type": "markdown",
   "id": "h05m8T6aNlGy",
   "metadata": {
    "id": "h05m8T6aNlGy"
   },
   "source": [
    "**Observations:**\n",
    "- Tuning our model has improved its overall performance as compared to the baseline model\n",
    "- Most crucially our F_1 score increased from 0.558 to 0.571"
   ]
  },
  {
   "cell_type": "markdown",
   "id": "hqoMXoqSY881",
   "metadata": {
    "id": "hqoMXoqSY881"
   },
   "source": [
    "Next we will construct an item item similarity-based collaborative filtering recommendation system and compare this to our previous model."
   ]
  },
  {
   "cell_type": "code",
   "execution_count": null,
   "id": "8rqvihtAZGO3",
   "metadata": {
    "colab": {
     "base_uri": "https://localhost:8080/"
    },
    "id": "8rqvihtAZGO3",
    "outputId": "1447d122-a035-4d7c-d1c8-2d99a6867a91"
   },
   "outputs": [
    {
     "name": "stdout",
     "output_type": "stream",
     "text": [
      "RMSE: 5.8570\n",
      "Precision:  0.394\n",
      "Recall:  0.648\n",
      "F_1 score:  0.49\n"
     ]
    }
   ],
   "source": [
    "#Declaring the similarity options.\n",
    "sim_options = {'name': 'cosine',\n",
    "               'user_based': False}\n",
    "\n",
    "#KNN algorithm is used to find desired similar items.\n",
    "sim_item_item = KNNBasic(sim_options=sim_options, random_state=1, verbose=False)\n",
    "\n",
    "# Train the algorithm on the trainset, and predict ratings for the testset\n",
    "sim_item_item.fit(trainset)\n",
    "\n",
    "# Let us compute precision@k, recall@k, and f_1 score with k =10.\n",
    "precision_recall_at_k(sim_item_item)"
   ]
  },
  {
   "cell_type": "markdown",
   "id": "LztG0txUZjQR",
   "metadata": {
    "id": "LztG0txUZjQR"
   },
   "source": [
    "**Observations:**\n",
    "- Our baseline item item similarity-based recommendation model performs worse than our user user similarity-based model\n",
    "- The F_1 score has declined from 0.571 for our tuned user user model to 0.49 for our baseline item item model"
   ]
  },
  {
   "cell_type": "markdown",
   "id": "oXxMOUtCaFNJ",
   "metadata": {
    "id": "oXxMOUtCaFNJ"
   },
   "source": [
    "Once again we will use GridSearchCV to find the optimal parameters for our model."
   ]
  },
  {
   "cell_type": "code",
   "execution_count": null,
   "id": "otGUtEMGZamP",
   "metadata": {
    "colab": {
     "base_uri": "https://localhost:8080/"
    },
    "id": "otGUtEMGZamP",
    "outputId": "afdb413e-7b5c-41ed-f727-cf914d6f7043"
   },
   "outputs": [
    {
     "name": "stdout",
     "output_type": "stream",
     "text": [
      "4.932206004443555\n",
      "{'k': 30, 'min_k': 6, 'sim_options': {'name': 'pearson_baseline', 'user_based': False, 'min_support': 2}}\n"
     ]
    }
   ],
   "source": [
    "# setting up parameter grid to tune the hyperparameters\n",
    "param_grid = {'k': [10, 20, 30], 'min_k': [3, 6, 9], 'sim_options': {'name': [\"cosine\",'pearson',\"pearson_baseline\"], 'user_based': [False], \"min_support\":[2,4]}}\n",
    "\n",
    "# performing 3-fold cross validation to tune the hyperparameters\n",
    "gs = GridSearchCV(KNNBasic, param_grid, measures=['rmse'], cv=3, n_jobs=-1)\n",
    "\n",
    "# fitting the data\n",
    "gs.fit(data)\n",
    "\n",
    "# Find the best RMSE score\n",
    "print(gs.best_score['rmse'])\n",
    "\n",
    "# Find the combination of parameters that gave the best RMSE score\n",
    "print(gs.best_params['rmse'])"
   ]
  },
  {
   "cell_type": "code",
   "execution_count": null,
   "id": "rg6HDtx0jg_d",
   "metadata": {
    "colab": {
     "base_uri": "https://localhost:8080/"
    },
    "id": "rg6HDtx0jg_d",
    "outputId": "89c2f16d-b920-400e-d9ab-aa8a9a6cd396"
   },
   "outputs": [
    {
     "name": "stdout",
     "output_type": "stream",
     "text": [
      "RMSE: 5.8512\n",
      "Precision:  0.458\n",
      "Recall:  0.662\n",
      "F_1 score:  0.541\n"
     ]
    }
   ],
   "source": [
    "# using the optimal similarity measure for item-item based collaborative filtering\n",
    "sim_options = {'name': 'pearson_baseline', 'user_based': False, 'min_support': 2}\n",
    "\n",
    "# creating an instance of KNNBasic with optimal hyperparameter values\n",
    "sim_item_item_optimized = KNNBasic(sim_options = sim_options , k = 30 , min_k = 6 , random_state=1, verbose=False)\n",
    "\n",
    "# training the algorithm on the trainset\n",
    "sim_item_item_optimized.fit(trainset)\n",
    "\n",
    "# Let us compute precision@k and recall@k, f1_score@k and RMSE\n",
    "precision_recall_at_k(sim_item_item_optimized)"
   ]
  },
  {
   "cell_type": "markdown",
   "id": "k_D9lgizkB_O",
   "metadata": {
    "id": "k_D9lgizkB_O"
   },
   "source": [
    "**Observations:**\n",
    "- While we have achieved our lowest RMSE yet, our tuned item item similarity-based model still does not perform as well as the user user similarity-based model in terms of our key F_1 score metric"
   ]
  },
  {
   "cell_type": "markdown",
   "id": "Y_1xOTnn1TjK",
   "metadata": {
    "id": "Y_1xOTnn1TjK"
   },
   "source": [
    "# III. Model Based Collaborative Filtering Recommendation System"
   ]
  },
  {
   "cell_type": "markdown",
   "id": "LXjkfP-r27iM",
   "metadata": {
    "id": "LXjkfP-r27iM"
   },
   "source": [
    "To provide more personalized recommendations to our users we will next try Model-based Collaborative Filtering. Here we will use latent features to make recommendations based on a user's past behavior, computing these latent features using Singular Value Decomposition (SVD)."
   ]
  },
  {
   "cell_type": "code",
   "execution_count": null,
   "id": "ePuV-a5W0kBB",
   "metadata": {
    "colab": {
     "base_uri": "https://localhost:8080/"
    },
    "id": "ePuV-a5W0kBB",
    "outputId": "e7acd7ec-ee5a-4764-cee7-1709f51e7c2f"
   },
   "outputs": [
    {
     "name": "stdout",
     "output_type": "stream",
     "text": [
      "RMSE: 876.3079\n",
      "Precision:  0.428\n",
      "Recall:  0.795\n",
      "F_1 score:  0.556\n"
     ]
    }
   ],
   "source": [
    "# using SVD matrix factorization\n",
    "svd = SVD(random_state=1)\n",
    "\n",
    "# training the algorithm on the trainset\n",
    "svd.fit(trainset)\n",
    "\n",
    "# Use the function precision_recall_at_k to compute precision@k, recall@k, F1-Score@k, and RMSE\n",
    "precision_recall_at_k(svd)"
   ]
  },
  {
   "cell_type": "markdown",
   "id": "ydke2Wz0Zqah",
   "metadata": {
    "id": "ydke2Wz0Zqah"
   },
   "source": [
    "**Observations:**\n",
    "- Our RMSE has increased dramatically with this baseline model\n",
    "- Our F_1 score is only slightly lower than that of our tuned user user model however"
   ]
  },
  {
   "cell_type": "markdown",
   "id": "1Z4sAeNDz0c6",
   "metadata": {
    "id": "1Z4sAeNDz0c6"
   },
   "source": [
    "We will tune our model to see if we can minimize RMSE while increasing our F_1 score."
   ]
  },
  {
   "cell_type": "code",
   "execution_count": null,
   "id": "LPj-ZNhI8a9b",
   "metadata": {
    "colab": {
     "base_uri": "https://localhost:8080/"
    },
    "id": "LPj-ZNhI8a9b",
    "outputId": "eacc920c-cdca-4f69-d95f-68069b1e67d1"
   },
   "outputs": [
    {
     "name": "stdout",
     "output_type": "stream",
     "text": [
      "4.840863431992655\n",
      "{'n_epochs': 30, 'lr_all': 0.001, 'reg_all': 0.2}\n"
     ]
    }
   ],
   "source": [
    "# set the parameter space to tune\n",
    "param_grid = {'n_epochs': [10, 20, 30], 'lr_all': [0.001, 0.005, 0.01], 'reg_all': [0.2, 0.4, 0.6]}\n",
    "\n",
    "# performing 3-fold gridsearch cross validation\n",
    "gs_ = GridSearchCV(SVD, param_grid, measures=['rmse'], cv=3, n_jobs=-1)\n",
    "\n",
    "# fitting data\n",
    "gs_.fit(data)\n",
    "\n",
    "# best RMSE score\n",
    "print(gs_.best_score['rmse'])\n",
    "\n",
    "# combination of parameters that gave the best RMSE score\n",
    "print(gs_.best_params['rmse'])"
   ]
  },
  {
   "cell_type": "code",
   "execution_count": null,
   "id": "wzQ64oVKDOkd",
   "metadata": {
    "colab": {
     "base_uri": "https://localhost:8080/"
    },
    "id": "wzQ64oVKDOkd",
    "outputId": "58a9539d-4836-49b5-f609-ef8e02b927b0"
   },
   "outputs": [
    {
     "name": "stdout",
     "output_type": "stream",
     "text": [
      "RMSE: 5.7867\n",
      "Precision:  0.442\n",
      "Recall:  0.776\n",
      "F_1 score:  0.563\n"
     ]
    }
   ],
   "source": [
    "# Build the optimized SVD model using optimal hyperparameter search\n",
    "svd_optimized = SVD(n_epochs = 30, lr_all = 0.001, reg_all = 0.2, random_state = 1)\n",
    "\n",
    "# Train the algorithm on the trainset\n",
    "svd_optimized=svd_optimized.fit(trainset)\n",
    "\n",
    "# Use the function precision_recall_at_k to compute precision@k, recall@k, F1-Score@k, and RMSE\n",
    "precision_recall_at_k(svd_optimized)"
   ]
  },
  {
   "cell_type": "markdown",
   "id": "yORHRBJOaPv_",
   "metadata": {
    "id": "yORHRBJOaPv_"
   },
   "source": [
    "**Observations:**\n",
    "- We have greatly decreased our RMSE and increased our F_1 score\n",
    "- Despite this, the F_1 score is still lower than that of our tuned user user model"
   ]
  },
  {
   "cell_type": "markdown",
   "id": "4w22c0QsvIG3",
   "metadata": {
    "id": "4w22c0QsvIG3"
   },
   "source": [
    "# Predictions and Recommendations"
   ]
  },
  {
   "cell_type": "markdown",
   "id": "RENj8WEXjPwC",
   "metadata": {
    "id": "RENj8WEXjPwC"
   },
   "source": [
    "As our tuned user user similarity-based model has performed the best we will use it to make some predictions below."
   ]
  },
  {
   "cell_type": "code",
   "execution_count": null,
   "id": "c67fV9WR8mbQ",
   "metadata": {
    "colab": {
     "base_uri": "https://localhost:8080/"
    },
    "id": "c67fV9WR8mbQ",
    "outputId": "f679c53b-185a-48b6-ff71-7b59a54e4fd2"
   },
   "outputs": [
    {
     "name": "stdout",
     "output_type": "stream",
     "text": [
      "user: 7160       item: 17         r_ui = 3.00   est = 3.48   {'actual_k': 30, 'was_impossible': False}\n"
     ]
    },
    {
     "data": {
      "text/plain": [
       "Prediction(uid=7160, iid=17, r_ui=3, est=3.476715309343607, details={'actual_k': 30, 'was_impossible': False})"
      ]
     },
     "execution_count": 51,
     "metadata": {},
     "output_type": "execute_result"
    }
   ],
   "source": [
    "#Using our model to predict the play_count for user_id 7160 and song_id 17, a song this user has listened to 3 times\n",
    "sim_user_user_optimized.predict(7160, 17, r_ui=3, verbose=True)"
   ]
  },
  {
   "cell_type": "code",
   "execution_count": null,
   "id": "esbh5xIZkIYU",
   "metadata": {
    "colab": {
     "base_uri": "https://localhost:8080/"
    },
    "id": "esbh5xIZkIYU",
    "outputId": "10d7d8a9-ab52-4abd-fab0-229cc0298d71"
   },
   "outputs": [
    {
     "name": "stdout",
     "output_type": "stream",
     "text": [
      "user: 7160       item: 9          r_ui = None   est = 3.38   {'actual_k': 11, 'was_impossible': False}\n"
     ]
    },
    {
     "data": {
      "text/plain": [
       "Prediction(uid=7160, iid=9, r_ui=None, est=3.376496586029605, details={'actual_k': 11, 'was_impossible': False})"
      ]
     },
     "execution_count": 56,
     "metadata": {},
     "output_type": "execute_result"
    }
   ],
   "source": [
    "#Using our model to predict the play_count for user_id 7160 and song_id 9, a song this user has not listened to\n",
    "sim_user_user_optimized.predict(7160, 9, verbose=True)"
   ]
  },
  {
   "cell_type": "markdown",
   "id": "HaTm_2Q_tknF",
   "metadata": {
    "id": "HaTm_2Q_tknF"
   },
   "source": [
    "**Observations:**\n",
    "- In our first prediction above we can see that our model was fairly accurate\n",
    "- Our model predicted that user 7160 would listen to song 17 3.48 times, in reality they listened 3"
   ]
  },
  {
   "cell_type": "markdown",
   "id": "BSUnadhFn2pH",
   "metadata": {
    "id": "BSUnadhFn2pH"
   },
   "source": [
    "Next we will use our model to make some song recommendations. We will first create a function to help facilitate this."
   ]
  },
  {
   "cell_type": "code",
   "execution_count": null,
   "id": "FP4bxZEin_gJ",
   "metadata": {
    "id": "FP4bxZEin_gJ"
   },
   "outputs": [],
   "source": [
    "def get_recommendations(data, user_id, top_n, algo):\n",
    "    \n",
    "    # creating an empty list to store the recommended song ids\n",
    "    recommendations = []\n",
    "    \n",
    "    # creating a user song interactions matrix \n",
    "    user_song_interactions_matrix = data.pivot(index='user_id', columns='song_id', values='play_count')\n",
    "    \n",
    "    # extracting those song ids which the user_id has not interacted yet\n",
    "    non_interacted_songs = user_song_interactions_matrix.loc[user_id][user_song_interactions_matrix.loc[user_id].isnull()].index.tolist()\n",
    "    \n",
    "    # looping through each of the song ids which user_id has not interacted yet\n",
    "    for song_id in non_interacted_songs:\n",
    "        \n",
    "        # predicting the play count for those non interacted song ids by this user\n",
    "        est = algo.predict(user_id, song_id).est\n",
    "        \n",
    "        # appending the predicted plays\n",
    "        recommendations.append((song_id, est))\n",
    "\n",
    "    # sorting the predicted plays in descending order\n",
    "    recommendations.sort(key=lambda x: x[1], reverse=True)\n",
    "\n",
    "    return recommendations[:top_n] # returing top n highest predicted played songs for this user"
   ]
  },
  {
   "cell_type": "markdown",
   "id": "PvynFtQFpf_S",
   "metadata": {
    "id": "PvynFtQFpf_S"
   },
   "source": [
    "Next we will use this function to get the top 10 suggested songs for user 7160."
   ]
  },
  {
   "cell_type": "code",
   "execution_count": null,
   "id": "6rOYqvE0nhS4",
   "metadata": {
    "id": "6rOYqvE0nhS4"
   },
   "outputs": [],
   "source": [
    "#Getting top 10 suggested songs for user_id 7160\n",
    "sim_user_user_optimized_recommendations = get_recommendations(df, 7160, 10, sim_user_user_optimized)"
   ]
  },
  {
   "cell_type": "code",
   "execution_count": null,
   "id": "h02vyRsfr1rz",
   "metadata": {
    "colab": {
     "base_uri": "https://localhost:8080/",
     "height": 363
    },
    "id": "h02vyRsfr1rz",
    "outputId": "7af57405-2504-44c1-d7c5-3338bbadf70b"
   },
   "outputs": [
    {
     "data": {
      "text/html": [
       "\n",
       "  <div id=\"df-ef637ce9-789c-481f-a207-82480585a974\">\n",
       "    <div class=\"colab-df-container\">\n",
       "      <div>\n",
       "<style scoped>\n",
       "    .dataframe tbody tr th:only-of-type {\n",
       "        vertical-align: middle;\n",
       "    }\n",
       "\n",
       "    .dataframe tbody tr th {\n",
       "        vertical-align: top;\n",
       "    }\n",
       "\n",
       "    .dataframe thead th {\n",
       "        text-align: right;\n",
       "    }\n",
       "</style>\n",
       "<table border=\"1\" class=\"dataframe\">\n",
       "  <thead>\n",
       "    <tr style=\"text-align: right;\">\n",
       "      <th></th>\n",
       "      <th>song_id</th>\n",
       "      <th>predicted_plays</th>\n",
       "    </tr>\n",
       "  </thead>\n",
       "  <tbody>\n",
       "    <tr>\n",
       "      <th>0</th>\n",
       "      <td>717</td>\n",
       "      <td>17.875927</td>\n",
       "    </tr>\n",
       "    <tr>\n",
       "      <th>1</th>\n",
       "      <td>642</td>\n",
       "      <td>14.482218</td>\n",
       "    </tr>\n",
       "    <tr>\n",
       "      <th>2</th>\n",
       "      <td>1184</td>\n",
       "      <td>12.886756</td>\n",
       "    </tr>\n",
       "    <tr>\n",
       "      <th>3</th>\n",
       "      <td>1729</td>\n",
       "      <td>9.533550</td>\n",
       "    </tr>\n",
       "    <tr>\n",
       "      <th>4</th>\n",
       "      <td>1302</td>\n",
       "      <td>9.060616</td>\n",
       "    </tr>\n",
       "    <tr>\n",
       "      <th>5</th>\n",
       "      <td>561</td>\n",
       "      <td>8.529942</td>\n",
       "    </tr>\n",
       "    <tr>\n",
       "      <th>6</th>\n",
       "      <td>1567</td>\n",
       "      <td>8.293340</td>\n",
       "    </tr>\n",
       "    <tr>\n",
       "      <th>7</th>\n",
       "      <td>1343</td>\n",
       "      <td>7.944882</td>\n",
       "    </tr>\n",
       "    <tr>\n",
       "      <th>8</th>\n",
       "      <td>1065</td>\n",
       "      <td>7.653844</td>\n",
       "    </tr>\n",
       "    <tr>\n",
       "      <th>9</th>\n",
       "      <td>120</td>\n",
       "      <td>7.479701</td>\n",
       "    </tr>\n",
       "  </tbody>\n",
       "</table>\n",
       "</div>\n",
       "      <button class=\"colab-df-convert\" onclick=\"convertToInteractive('df-ef637ce9-789c-481f-a207-82480585a974')\"\n",
       "              title=\"Convert this dataframe to an interactive table.\"\n",
       "              style=\"display:none;\">\n",
       "        \n",
       "  <svg xmlns=\"http://www.w3.org/2000/svg\" height=\"24px\"viewBox=\"0 0 24 24\"\n",
       "       width=\"24px\">\n",
       "    <path d=\"M0 0h24v24H0V0z\" fill=\"none\"/>\n",
       "    <path d=\"M18.56 5.44l.94 2.06.94-2.06 2.06-.94-2.06-.94-.94-2.06-.94 2.06-2.06.94zm-11 1L8.5 8.5l.94-2.06 2.06-.94-2.06-.94L8.5 2.5l-.94 2.06-2.06.94zm10 10l.94 2.06.94-2.06 2.06-.94-2.06-.94-.94-2.06-.94 2.06-2.06.94z\"/><path d=\"M17.41 7.96l-1.37-1.37c-.4-.4-.92-.59-1.43-.59-.52 0-1.04.2-1.43.59L10.3 9.45l-7.72 7.72c-.78.78-.78 2.05 0 2.83L4 21.41c.39.39.9.59 1.41.59.51 0 1.02-.2 1.41-.59l7.78-7.78 2.81-2.81c.8-.78.8-2.07 0-2.86zM5.41 20L4 18.59l7.72-7.72 1.47 1.35L5.41 20z\"/>\n",
       "  </svg>\n",
       "      </button>\n",
       "      \n",
       "  <style>\n",
       "    .colab-df-container {\n",
       "      display:flex;\n",
       "      flex-wrap:wrap;\n",
       "      gap: 12px;\n",
       "    }\n",
       "\n",
       "    .colab-df-convert {\n",
       "      background-color: #E8F0FE;\n",
       "      border: none;\n",
       "      border-radius: 50%;\n",
       "      cursor: pointer;\n",
       "      display: none;\n",
       "      fill: #1967D2;\n",
       "      height: 32px;\n",
       "      padding: 0 0 0 0;\n",
       "      width: 32px;\n",
       "    }\n",
       "\n",
       "    .colab-df-convert:hover {\n",
       "      background-color: #E2EBFA;\n",
       "      box-shadow: 0px 1px 2px rgba(60, 64, 67, 0.3), 0px 1px 3px 1px rgba(60, 64, 67, 0.15);\n",
       "      fill: #174EA6;\n",
       "    }\n",
       "\n",
       "    [theme=dark] .colab-df-convert {\n",
       "      background-color: #3B4455;\n",
       "      fill: #D2E3FC;\n",
       "    }\n",
       "\n",
       "    [theme=dark] .colab-df-convert:hover {\n",
       "      background-color: #434B5C;\n",
       "      box-shadow: 0px 1px 3px 1px rgba(0, 0, 0, 0.15);\n",
       "      filter: drop-shadow(0px 1px 2px rgba(0, 0, 0, 0.3));\n",
       "      fill: #FFFFFF;\n",
       "    }\n",
       "  </style>\n",
       "\n",
       "      <script>\n",
       "        const buttonEl =\n",
       "          document.querySelector('#df-ef637ce9-789c-481f-a207-82480585a974 button.colab-df-convert');\n",
       "        buttonEl.style.display =\n",
       "          google.colab.kernel.accessAllowed ? 'block' : 'none';\n",
       "\n",
       "        async function convertToInteractive(key) {\n",
       "          const element = document.querySelector('#df-ef637ce9-789c-481f-a207-82480585a974');\n",
       "          const dataTable =\n",
       "            await google.colab.kernel.invokeFunction('convertToInteractive',\n",
       "                                                     [key], {});\n",
       "          if (!dataTable) return;\n",
       "\n",
       "          const docLinkHtml = 'Like what you see? Visit the ' +\n",
       "            '<a target=\"_blank\" href=https://colab.research.google.com/notebooks/data_table.ipynb>data table notebook</a>'\n",
       "            + ' to learn more about interactive tables.';\n",
       "          element.innerHTML = '';\n",
       "          dataTable['output_type'] = 'display_data';\n",
       "          await google.colab.output.renderOutput(dataTable, element);\n",
       "          const docLink = document.createElement('div');\n",
       "          docLink.innerHTML = docLinkHtml;\n",
       "          element.appendChild(docLink);\n",
       "        }\n",
       "      </script>\n",
       "    </div>\n",
       "  </div>\n",
       "  "
      ],
      "text/plain": [
       "   song_id  predicted_plays\n",
       "0      717        17.875927\n",
       "1      642        14.482218\n",
       "2     1184        12.886756\n",
       "3     1729         9.533550\n",
       "4     1302         9.060616\n",
       "5      561         8.529942\n",
       "6     1567         8.293340\n",
       "7     1343         7.944882\n",
       "8     1065         7.653844\n",
       "9      120         7.479701"
      ]
     },
     "execution_count": 62,
     "metadata": {},
     "output_type": "execute_result"
    }
   ],
   "source": [
    "#Building the dataframe for above recommendations with columns \"song_id\" and \"predicted_plays\"\n",
    "pd.DataFrame(sim_user_user_optimized_recommendations, columns=['song_id', 'predicted_plays'])"
   ]
  },
  {
   "cell_type": "markdown",
   "id": "c48lmVCFpmCX",
   "metadata": {
    "id": "c48lmVCFpmCX"
   },
   "source": [
    "Now we will create a function to correct these play counts and rank these songs. We will do so because it is not only the play count that describes the likelihood of a user to listen to a song, but also the number of users who have listened to it. To incorporate this into our recommendations we will subtract 1/sqrt(n) from the predicted plays of each song, where n is the number of users who have listened to it."
   ]
  },
  {
   "cell_type": "code",
   "execution_count": null,
   "id": "_G-LTD5Gpcyq",
   "metadata": {
    "id": "_G-LTD5Gpcyq"
   },
   "outputs": [],
   "source": [
    "def ranking_songs(sim_user_user_optimized_recommendations, final_plays):\n",
    "  # sort the songs based on play_count\n",
    "  ranked_songs = final_plays.loc[[song[0] for song in sim_user_user_optimized_recommendations]].sort_values('count_users', ascending=False)[['count_users']].reset_index()\n",
    "\n",
    "  # merge with the recommended songs to get predicted plays\n",
    "  ranked_songs = ranked_songs.merge(pd.DataFrame(sim_user_user_optimized_recommendations, columns=['song_id', 'predicted_plays']), on='song_id', how='inner')\n",
    "\n",
    "  # rank the songs based on corrected plays\n",
    "  ranked_songs['corrected_plays'] = ranked_songs['predicted_plays'] - 1 / np.sqrt(ranked_songs['count_users'])\n",
    "\n",
    "  # sort the songs based on corrected plays\n",
    "  ranked_songs = ranked_songs.sort_values('corrected_plays', ascending=False)\n",
    "  \n",
    "  return ranked_songs"
   ]
  },
  {
   "cell_type": "code",
   "execution_count": null,
   "id": "fvZersnfteG6",
   "metadata": {
    "colab": {
     "base_uri": "https://localhost:8080/",
     "height": 363
    },
    "id": "fvZersnfteG6",
    "outputId": "435c59b3-5323-4acd-a1eb-7018095a3b3c"
   },
   "outputs": [
    {
     "data": {
      "text/html": [
       "\n",
       "  <div id=\"df-6738727c-b407-4ec0-91b5-63a6a551b871\">\n",
       "    <div class=\"colab-df-container\">\n",
       "      <div>\n",
       "<style scoped>\n",
       "    .dataframe tbody tr th:only-of-type {\n",
       "        vertical-align: middle;\n",
       "    }\n",
       "\n",
       "    .dataframe tbody tr th {\n",
       "        vertical-align: top;\n",
       "    }\n",
       "\n",
       "    .dataframe thead th {\n",
       "        text-align: right;\n",
       "    }\n",
       "</style>\n",
       "<table border=\"1\" class=\"dataframe\">\n",
       "  <thead>\n",
       "    <tr style=\"text-align: right;\">\n",
       "      <th></th>\n",
       "      <th>song_id</th>\n",
       "      <th>count_users</th>\n",
       "      <th>predicted_plays</th>\n",
       "      <th>corrected_plays</th>\n",
       "    </tr>\n",
       "  </thead>\n",
       "  <tbody>\n",
       "    <tr>\n",
       "      <th>0</th>\n",
       "      <td>717</td>\n",
       "      <td>395</td>\n",
       "      <td>17.875927</td>\n",
       "      <td>17.825612</td>\n",
       "    </tr>\n",
       "    <tr>\n",
       "      <th>1</th>\n",
       "      <td>642</td>\n",
       "      <td>200</td>\n",
       "      <td>14.482218</td>\n",
       "      <td>14.411508</td>\n",
       "    </tr>\n",
       "    <tr>\n",
       "      <th>2</th>\n",
       "      <td>1184</td>\n",
       "      <td>243</td>\n",
       "      <td>12.886756</td>\n",
       "      <td>12.822605</td>\n",
       "    </tr>\n",
       "    <tr>\n",
       "      <th>3</th>\n",
       "      <td>1729</td>\n",
       "      <td>110</td>\n",
       "      <td>9.533550</td>\n",
       "      <td>9.438204</td>\n",
       "    </tr>\n",
       "    <tr>\n",
       "      <th>4</th>\n",
       "      <td>1302</td>\n",
       "      <td>120</td>\n",
       "      <td>9.060616</td>\n",
       "      <td>8.969329</td>\n",
       "    </tr>\n",
       "    <tr>\n",
       "      <th>5</th>\n",
       "      <td>561</td>\n",
       "      <td>185</td>\n",
       "      <td>8.529942</td>\n",
       "      <td>8.456420</td>\n",
       "    </tr>\n",
       "    <tr>\n",
       "      <th>6</th>\n",
       "      <td>1567</td>\n",
       "      <td>190</td>\n",
       "      <td>8.293340</td>\n",
       "      <td>8.220793</td>\n",
       "    </tr>\n",
       "    <tr>\n",
       "      <th>7</th>\n",
       "      <td>1343</td>\n",
       "      <td>175</td>\n",
       "      <td>7.944882</td>\n",
       "      <td>7.869289</td>\n",
       "    </tr>\n",
       "    <tr>\n",
       "      <th>8</th>\n",
       "      <td>1065</td>\n",
       "      <td>229</td>\n",
       "      <td>7.653844</td>\n",
       "      <td>7.587763</td>\n",
       "    </tr>\n",
       "    <tr>\n",
       "      <th>9</th>\n",
       "      <td>120</td>\n",
       "      <td>1606</td>\n",
       "      <td>7.479701</td>\n",
       "      <td>7.454748</td>\n",
       "    </tr>\n",
       "  </tbody>\n",
       "</table>\n",
       "</div>\n",
       "      <button class=\"colab-df-convert\" onclick=\"convertToInteractive('df-6738727c-b407-4ec0-91b5-63a6a551b871')\"\n",
       "              title=\"Convert this dataframe to an interactive table.\"\n",
       "              style=\"display:none;\">\n",
       "        \n",
       "  <svg xmlns=\"http://www.w3.org/2000/svg\" height=\"24px\"viewBox=\"0 0 24 24\"\n",
       "       width=\"24px\">\n",
       "    <path d=\"M0 0h24v24H0V0z\" fill=\"none\"/>\n",
       "    <path d=\"M18.56 5.44l.94 2.06.94-2.06 2.06-.94-2.06-.94-.94-2.06-.94 2.06-2.06.94zm-11 1L8.5 8.5l.94-2.06 2.06-.94-2.06-.94L8.5 2.5l-.94 2.06-2.06.94zm10 10l.94 2.06.94-2.06 2.06-.94-2.06-.94-.94-2.06-.94 2.06-2.06.94z\"/><path d=\"M17.41 7.96l-1.37-1.37c-.4-.4-.92-.59-1.43-.59-.52 0-1.04.2-1.43.59L10.3 9.45l-7.72 7.72c-.78.78-.78 2.05 0 2.83L4 21.41c.39.39.9.59 1.41.59.51 0 1.02-.2 1.41-.59l7.78-7.78 2.81-2.81c.8-.78.8-2.07 0-2.86zM5.41 20L4 18.59l7.72-7.72 1.47 1.35L5.41 20z\"/>\n",
       "  </svg>\n",
       "      </button>\n",
       "      \n",
       "  <style>\n",
       "    .colab-df-container {\n",
       "      display:flex;\n",
       "      flex-wrap:wrap;\n",
       "      gap: 12px;\n",
       "    }\n",
       "\n",
       "    .colab-df-convert {\n",
       "      background-color: #E8F0FE;\n",
       "      border: none;\n",
       "      border-radius: 50%;\n",
       "      cursor: pointer;\n",
       "      display: none;\n",
       "      fill: #1967D2;\n",
       "      height: 32px;\n",
       "      padding: 0 0 0 0;\n",
       "      width: 32px;\n",
       "    }\n",
       "\n",
       "    .colab-df-convert:hover {\n",
       "      background-color: #E2EBFA;\n",
       "      box-shadow: 0px 1px 2px rgba(60, 64, 67, 0.3), 0px 1px 3px 1px rgba(60, 64, 67, 0.15);\n",
       "      fill: #174EA6;\n",
       "    }\n",
       "\n",
       "    [theme=dark] .colab-df-convert {\n",
       "      background-color: #3B4455;\n",
       "      fill: #D2E3FC;\n",
       "    }\n",
       "\n",
       "    [theme=dark] .colab-df-convert:hover {\n",
       "      background-color: #434B5C;\n",
       "      box-shadow: 0px 1px 3px 1px rgba(0, 0, 0, 0.15);\n",
       "      filter: drop-shadow(0px 1px 2px rgba(0, 0, 0, 0.3));\n",
       "      fill: #FFFFFF;\n",
       "    }\n",
       "  </style>\n",
       "\n",
       "      <script>\n",
       "        const buttonEl =\n",
       "          document.querySelector('#df-6738727c-b407-4ec0-91b5-63a6a551b871 button.colab-df-convert');\n",
       "        buttonEl.style.display =\n",
       "          google.colab.kernel.accessAllowed ? 'block' : 'none';\n",
       "\n",
       "        async function convertToInteractive(key) {\n",
       "          const element = document.querySelector('#df-6738727c-b407-4ec0-91b5-63a6a551b871');\n",
       "          const dataTable =\n",
       "            await google.colab.kernel.invokeFunction('convertToInteractive',\n",
       "                                                     [key], {});\n",
       "          if (!dataTable) return;\n",
       "\n",
       "          const docLinkHtml = 'Like what you see? Visit the ' +\n",
       "            '<a target=\"_blank\" href=https://colab.research.google.com/notebooks/data_table.ipynb>data table notebook</a>'\n",
       "            + ' to learn more about interactive tables.';\n",
       "          element.innerHTML = '';\n",
       "          dataTable['output_type'] = 'display_data';\n",
       "          await google.colab.output.renderOutput(dataTable, element);\n",
       "          const docLink = document.createElement('div');\n",
       "          docLink.innerHTML = docLinkHtml;\n",
       "          element.appendChild(docLink);\n",
       "        }\n",
       "      </script>\n",
       "    </div>\n",
       "  </div>\n",
       "  "
      ],
      "text/plain": [
       "   song_id  count_users  predicted_plays  corrected_plays\n",
       "0      717          395        17.875927        17.825612\n",
       "1      642          200        14.482218        14.411508\n",
       "2     1184          243        12.886756        12.822605\n",
       "3     1729          110         9.533550         9.438204\n",
       "4     1302          120         9.060616         8.969329\n",
       "5      561          185         8.529942         8.456420\n",
       "6     1567          190         8.293340         8.220793\n",
       "7     1343          175         7.944882         7.869289\n",
       "8     1065          229         7.653844         7.587763\n",
       "9      120         1606         7.479701         7.454748"
      ]
     },
     "execution_count": 64,
     "metadata": {},
     "output_type": "execute_result"
    }
   ],
   "source": [
    "#Ranking songs based on above recommendations\n",
    "ranking_songs(sim_user_user_optimized_recommendations, final_plays).reset_index(drop = True)"
   ]
  },
  {
   "cell_type": "code",
   "execution_count": null,
   "id": "xaSgPUlqu8UC",
   "metadata": {
    "colab": {
     "base_uri": "https://localhost:8080/"
    },
    "id": "xaSgPUlqu8UC",
    "outputId": "cc813d4a-39d0-4285-9890-0f119f1394cf"
   },
   "outputs": [
    {
     "name": "stdout",
     "output_type": "stream",
     "text": [
      "1 Me & Mr Jones by Amy Winehouse\n",
      "2 Doperide by Saliva\n",
      "3 Red Right Ankle by The Decemberists\n",
      "4 EMCEE Murdah by K-OS\n",
      "5 Lady (Hear Me Tonight) by Modjo\n",
      "6 Where I Stand by Days Of The New\n",
      "7 Not In Love by Crystal Castles\n",
      "8 Boys Will Be Boys by The Ordinary Boys\n",
      "9 Reason I'm Alive (Explicit) by Drowning Pool\n",
      "10 You're The One by Dwight Yoakam\n"
     ]
    }
   ],
   "source": [
    "#Printing rank, song title and artist name for these recommendations\n",
    "recommendation_results = ranking_songs(sim_user_user_optimized_recommendations, final_plays).reset_index(drop = True)\n",
    "\n",
    "for x in range(0, len(recommendation_results)):\n",
    "  for y in range(0, len(df)):\n",
    "    if recommendation_results['song_id'][x] == df['song_id'][y]:\n",
    "      print(x+1, df['title'][y], 'by', df['artist_name'][y])\n",
    "      break"
   ]
  },
  {
   "cell_type": "markdown",
   "id": "kb66Geoxyukf",
   "metadata": {
    "id": "kb66Geoxyukf"
   },
   "source": [
    "# Conclusions and Recommendations"
   ]
  },
  {
   "cell_type": "markdown",
   "id": "tzocEBU70t4g",
   "metadata": {
    "id": "tzocEBU70t4g"
   },
   "source": [
    "## Refined Insights\n"
   ]
  },
  {
   "cell_type": "markdown",
   "id": "-rzKL3mg01Jo",
   "metadata": {
    "id": "-rzKL3mg01Jo"
   },
   "source": [
    "**Average Play Count**\n",
    "\n",
    "Upon further analysis of the dataset I discovered that the average play count for a user/song combination was rather low at only 2.68. This had great implications when trying to decide on a play count threshold for song relevance. As many users have a habit of only listening to songs a few times, I decided to set my threshold at 1.5 in order to broaden the definition of what a relevant song is."
   ]
  },
  {
   "cell_type": "markdown",
   "id": "w6VQwgYF7Mp1",
   "metadata": {
    "id": "w6VQwgYF7Mp1"
   },
   "source": [
    "**Additional Data on Users and Songs**\n",
    "\n",
    "While our dataset did contain columns we ultimately did not use such as year, song title, release and artist name, if provided with additional data on users and songs in the future we can continue to construct more and more advanced models that may provide better recommendations. In this instance we did not have any personal data on the users, or consequential descriptive data on the songs themselves, so this was not an option."
   ]
  },
  {
   "cell_type": "markdown",
   "id": "1wkYHpSn065K",
   "metadata": {
    "id": "1wkYHpSn065K"
   },
   "source": [
    "## Comparison of Various Techniques and their Relative Performance"
   ]
  },
  {
   "cell_type": "markdown",
   "id": "K-SPnG0a1BoY",
   "metadata": {
    "id": "K-SPnG0a1BoY"
   },
   "source": [
    "Using our key F_1 score metric to assess our results our tuned user user similarity-based collaborative filtering recommendation system performed the best with an F_1 score of 0.571. With that being said, our other tuned models were not far behind, with both the item item similarity-based collaborative filtering recommendation system and the model-based collaborative filtering recommendation system having F_1 scores greater than 0.5. Our model-based collaborative filtering recommendation system also had the distinction of having the lowest RMSE at 5.7867.\n",
    "\n",
    "Moving forward we can continue to hone these models and create new ones to improve performance. The ability to acquire more descriptive data on our users and songs could help in this endeavour, giving us more information with which to cluster and make informed recommendations. "
   ]
  },
  {
   "cell_type": "markdown",
   "id": "rwxM1FAT1CEH",
   "metadata": {
    "id": "rwxM1FAT1CEH"
   },
   "source": [
    "## Proposal for the Final Solution Design"
   ]
  },
  {
   "cell_type": "markdown",
   "id": "hIVbnAXw1GUV",
   "metadata": {
    "id": "hIVbnAXw1GUV"
   },
   "source": [
    "Per the above results, I recommend that a user user similarity-based recommendation system be implemented to suggest songs to users. As the model with the highest F_1 score it is the most likely to suggest songs that users will enjoy listening to and play multiple times."
   ]
  },
  {
   "cell_type": "markdown",
   "id": "njY5g-z5O9eE",
   "metadata": {
    "id": "njY5g-z5O9eE"
   },
   "source": [
    "Per our findings, the below parameters should be used in this model:\n",
    "\n",
    "\n",
    "*   Similarity Measure: Pearson Baseline\n",
    "*   Max K: 30\n",
    "*   Min K: 9\n",
    "*   Min Support: 2\n",
    "\n",
    "\n",
    "\n"
   ]
  }
 ],
 "metadata": {
  "colab": {
   "collapsed_sections": [],
   "name": "Dustin Kearns - Music Recommendation System - Milestone 1 + 2.ipynb",
   "provenance": []
  },
  "kernelspec": {
   "display_name": "Python 3 (ipykernel)",
   "language": "python",
   "name": "python3"
  },
  "language_info": {
   "codemirror_mode": {
    "name": "ipython",
    "version": 3
   },
   "file_extension": ".py",
   "mimetype": "text/x-python",
   "name": "python",
   "nbconvert_exporter": "python",
   "pygments_lexer": "ipython3",
   "version": "3.9.11"
  }
 },
 "nbformat": 4,
 "nbformat_minor": 5
}
